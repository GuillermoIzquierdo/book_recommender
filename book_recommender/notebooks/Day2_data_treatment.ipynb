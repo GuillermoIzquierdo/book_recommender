{
 "cells": [
  {
   "cell_type": "code",
   "execution_count": 95,
   "id": "28b02a44-86ec-4fb1-b332-d82f69164a38",
   "metadata": {},
   "outputs": [],
   "source": [
    "import pandas as pd\n",
    "import gzip"
   ]
  },
  {
   "cell_type": "code",
   "execution_count": 96,
   "id": "4918b3b8-e3aa-4f58-9998-eb199ce0a313",
   "metadata": {},
   "outputs": [],
   "source": [
    "def parse_fields_review(line_review):\n",
    "    data_review=json.loads(line_review)\n",
    "    return{\n",
    "        \n",
    "        \"user_id\":data_review[\"user_id\"],\n",
    "        \"book_id\":data_review[\"book_id\"],\n",
    "        \"review_id\":data_review[\"review_id\"],\n",
    "        \"rating\":data_review[\"rating\"],\n",
    "        \"review_text\":data_review[\"review_text\"],\n",
    "        \"n_votes\": data_review[\"n_votes\"]\n",
    "        \n",
    "        \n",
    "    }\n"
   ]
  },
  {
   "cell_type": "code",
   "execution_count": 97,
   "id": "e4c7d870-8984-41c4-9632-aee4a647d7a9",
   "metadata": {},
   "outputs": [],
   "source": [
    "books_reviews=[]\n",
    "with gzip.open(\"goodreads_reviews_young_adult.json.gz\",\"r\") as f:\n",
    "    while True:\n",
    "        line_review=f.readline()\n",
    "        if not line_review:\n",
    "            break\n",
    "        fields=parse_fields_review(line_review)\n",
    "        try:\n",
    "            ratings=int(fields[\"rating\"])\n",
    "        except ValueError:\n",
    "            continue\n",
    "        try:\n",
    "            n_votes=int(fields[\"n_votes\"])\n",
    "        except ValueError:\n",
    "            continue    \n",
    "        if n_votes>10:\n",
    "            books_reviews.append(fields)"
   ]
  },
  {
   "cell_type": "code",
   "execution_count": 98,
   "id": "688e44bd-b9a1-42f3-bcf5-d3262dad265b",
   "metadata": {},
   "outputs": [],
   "source": [
    "df=pd.DataFrame.from_dict(books_reviews)"
   ]
  },
  {
   "cell_type": "code",
   "execution_count": 99,
   "id": "819e3ba7-2cc7-4f3d-a46d-1eff59939a98",
   "metadata": {},
   "outputs": [
    {
     "data": {
      "text/plain": [
       "(48077, 6)"
      ]
     },
     "execution_count": 99,
     "metadata": {},
     "output_type": "execute_result"
    }
   ],
   "source": [
    "df.shape"
   ]
  },
  {
   "cell_type": "code",
   "execution_count": 100,
   "id": "75249ac2-fabc-4fc4-9903-ef9b43ff5ed0",
   "metadata": {},
   "outputs": [],
   "source": [
    "df.to_csv(\"reviews_young_adult.csv\")"
   ]
  },
  {
   "cell_type": "code",
   "execution_count": 101,
   "id": "faed6d85-7fa7-4e8c-b560-5341ee5666e7",
   "metadata": {},
   "outputs": [],
   "source": [
    "from google.cloud import storage\n",
    "\n",
    "BUCKET_NAME = \"book_recommender\"\n",
    "filename=\"reviews_young_adult.csv\"\n",
    "\n",
    "storage_filename = f\"reviews/{filename}\"\n",
    "\n",
    "\n",
    "client = storage.Client()\n",
    "bucket = client.bucket(BUCKET_NAME)\n"
   ]
  },
  {
   "cell_type": "code",
   "execution_count": 102,
   "id": "eff24f0f-71f9-4e81-bbb9-6d4fe0a6db87",
   "metadata": {},
   "outputs": [],
   "source": [
    "blob = bucket.blob(storage_filename)\n"
   ]
  },
  {
   "cell_type": "code",
   "execution_count": 103,
   "id": "44acf167-e58e-4a81-b5b1-7525de6c44ac",
   "metadata": {},
   "outputs": [],
   "source": [
    "blob.upload_from_filename(filename)"
   ]
  },
  {
   "cell_type": "code",
   "execution_count": 26,
   "id": "cec2ff36-f536-4624-9f47-8ecd91a0db2e",
   "metadata": {},
   "outputs": [],
   "source": [
    "import pandas as pd\n",
    "import gzip\n",
    "import json"
   ]
  },
  {
   "cell_type": "code",
   "execution_count": 27,
   "id": "1e015b8e-efdd-464f-8677-f7dcd24cddf4",
   "metadata": {},
   "outputs": [
    {
     "name": "stdout",
     "output_type": "stream",
     "text": [
      "/home/jupyter\n"
     ]
    }
   ],
   "source": [
    "!pwd"
   ]
  },
  {
   "cell_type": "code",
   "execution_count": 28,
   "id": "429c5143-75a5-4c66-b4da-7bbf634f4000",
   "metadata": {},
   "outputs": [],
   "source": [
    "#blob.download_to_filename(\"src/reviews_poetry.csv\")"
   ]
  },
  {
   "cell_type": "code",
   "execution_count": 94,
   "id": "f62100cb-e3db-41e5-87a0-70820606d1ab",
   "metadata": {},
   "outputs": [
    {
     "name": "stdout",
     "output_type": "stream",
     "text": [
      " Untitled.ipynb\n",
      " goodreads_reviews_comics_graphic.json.gz\n",
      " goodreads_reviews_fantasy_paranormal.json.gz\n",
      " goodreads_reviews_history_biography.json.gz\n",
      " goodreads_reviews_mystery_thriller_crime.json.gz\n",
      "'goodreads_reviews_poetry (1).json.gz'\n",
      " goodreads_reviews_romance.json.gz\n",
      " goodreads_reviews_young_adult.json.gz\n",
      " reviews_comics.csv\n",
      " reviews_fantasy_paranormal.csv\n",
      " reviews_history_biography.csv\n",
      " reviews_mystery_thriller_crime.csv\n",
      " reviews_poetry.csv\n",
      " reviews_romance.csv\n",
      " src\n",
      " tutorials\n"
     ]
    }
   ],
   "source": [
    "!ls"
   ]
  },
  {
   "cell_type": "code",
   "execution_count": null,
   "id": "35ce94c1-e44a-4e66-8e96-349a1b8e3a80",
   "metadata": {},
   "outputs": [],
   "source": []
  }
 ],
 "metadata": {
  "environment": {
   "kernel": "python3",
   "name": "tf2-gpu.2-8.m95",
   "type": "gcloud",
   "uri": "gcr.io/deeplearning-platform-release/tf2-gpu.2-8:m95"
  },
  "kernelspec": {
   "display_name": "Python 3",
   "language": "python",
   "name": "python3"
  },
  "language_info": {
   "codemirror_mode": {
    "name": "ipython",
    "version": 3
   },
   "file_extension": ".py",
   "mimetype": "text/x-python",
   "name": "python",
   "nbconvert_exporter": "python",
   "pygments_lexer": "ipython3",
   "version": "3.7.12"
  }
 },
 "nbformat": 4,
 "nbformat_minor": 5
}

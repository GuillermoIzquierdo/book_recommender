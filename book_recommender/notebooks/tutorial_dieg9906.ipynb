{
 "cells": [
  {
   "cell_type": "markdown",
   "id": "11ae642a",
   "metadata": {},
   "source": [
    "# Books"
   ]
  },
  {
   "cell_type": "code",
   "execution_count": 20,
   "id": "c71369d2",
   "metadata": {},
   "outputs": [],
   "source": [
    "import pandas as pd\n",
    "import gzip\n",
    "with gzip.open(\"/Users/diegocristobal/code/dieg9906/book_recommender/book_recommender/data/goodreads_books.json.gz\",\"r\") as f:\n",
    "    line= f.readline()"
   ]
  },
  {
   "cell_type": "code",
   "execution_count": 21,
   "id": "0192384a",
   "metadata": {},
   "outputs": [],
   "source": [
    "import json"
   ]
  },
  {
   "cell_type": "code",
   "execution_count": 22,
   "id": "a2dd003a",
   "metadata": {},
   "outputs": [
    {
     "data": {
      "text/plain": [
       "{'isbn': '0312853122',\n",
       " 'text_reviews_count': '1',\n",
       " 'series': [],\n",
       " 'country_code': 'US',\n",
       " 'language_code': '',\n",
       " 'popular_shelves': [{'count': '3', 'name': 'to-read'},\n",
       "  {'count': '1', 'name': 'p'},\n",
       "  {'count': '1', 'name': 'collection'},\n",
       "  {'count': '1', 'name': 'w-c-fields'},\n",
       "  {'count': '1', 'name': 'biography'}],\n",
       " 'asin': '',\n",
       " 'is_ebook': 'false',\n",
       " 'average_rating': '4.00',\n",
       " 'kindle_asin': '',\n",
       " 'similar_books': [],\n",
       " 'description': '',\n",
       " 'format': 'Paperback',\n",
       " 'link': 'https://www.goodreads.com/book/show/5333265-w-c-fields',\n",
       " 'authors': [{'author_id': '604031', 'role': ''}],\n",
       " 'publisher': \"St. Martin's Press\",\n",
       " 'num_pages': '256',\n",
       " 'publication_day': '1',\n",
       " 'isbn13': '9780312853129',\n",
       " 'publication_month': '9',\n",
       " 'edition_information': '',\n",
       " 'publication_year': '1984',\n",
       " 'url': 'https://www.goodreads.com/book/show/5333265-w-c-fields',\n",
       " 'image_url': 'https://images.gr-assets.com/books/1310220028m/5333265.jpg',\n",
       " 'book_id': '5333265',\n",
       " 'ratings_count': '3',\n",
       " 'work_id': '5400751',\n",
       " 'title': 'W.C. Fields: A Life on Film',\n",
       " 'title_without_series': 'W.C. Fields: A Life on Film'}"
      ]
     },
     "execution_count": 22,
     "metadata": {},
     "output_type": "execute_result"
    }
   ],
   "source": [
    "\n",
    "json.loads(line)"
   ]
  },
  {
   "cell_type": "code",
   "execution_count": null,
   "id": "1c396135",
   "metadata": {},
   "outputs": [],
   "source": []
  },
  {
   "cell_type": "code",
   "execution_count": 10,
   "id": "c98a1e91",
   "metadata": {},
   "outputs": [],
   "source": [
    "def parse_fields_book(line):\n",
    "    data=json.loads(line)\n",
    "    return{\n",
    "        \n",
    "        \"book_id\":data[\"book_id\"],\n",
    "        \"title\":data[\"title_without_series\"],\n",
    "        \"ratings\":data[\"ratings_count\"],\n",
    "        \"url\":data[\"url\"],\n",
    "        \"cover_img\":data[\"image_url\"],\n",
    "        \"isbn\":data[\"isbn\"],\n",
    "        \"authors\":data[\"authors\"],\n",
    "        \"description\":data[\"description\"]\n",
    "        \n",
    "        \n",
    "    }"
   ]
  },
  {
   "cell_type": "markdown",
   "id": "2e74f396",
   "metadata": {},
   "source": [
    "Get rid of unnecesary columns and books with less than 15 reviews"
   ]
  },
  {
   "cell_type": "code",
   "execution_count": 11,
   "id": "aa619cb8",
   "metadata": {},
   "outputs": [],
   "source": [
    "books_titles=[]\n",
    "with gzip.open(\"/Users/diegocristobal/code/dieg9906/book_recommender/book_recommender/data/goodreads_books.json.gz\",\"r\") as f:\n",
    "    while True:\n",
    "        line=f.readline()\n",
    "        if not line:\n",
    "            break\n",
    "        fields=parse_fields_book(line)\n",
    "        \n",
    "        try:\n",
    "            ratings=int(fields[\"ratings\"])\n",
    "        except ValueError:\n",
    "            continue\n",
    "        if ratings>150:\n",
    "            books_titles.append(fields)\n"
   ]
  },
  {
   "cell_type": "markdown",
   "id": "66bb334d",
   "metadata": {},
   "source": [
    "Put our data into a Dataframe"
   ]
  },
  {
   "cell_type": "code",
   "execution_count": 12,
   "id": "0e869ff8",
   "metadata": {},
   "outputs": [],
   "source": [
    "titles=pd.DataFrame.from_dict(books_titles)"
   ]
  },
  {
   "cell_type": "code",
   "execution_count": 13,
   "id": "59f3e89f",
   "metadata": {},
   "outputs": [
    {
     "data": {
      "text/html": [
       "<div>\n",
       "<style scoped>\n",
       "    .dataframe tbody tr th:only-of-type {\n",
       "        vertical-align: middle;\n",
       "    }\n",
       "\n",
       "    .dataframe tbody tr th {\n",
       "        vertical-align: top;\n",
       "    }\n",
       "\n",
       "    .dataframe thead th {\n",
       "        text-align: right;\n",
       "    }\n",
       "</style>\n",
       "<table border=\"1\" class=\"dataframe\">\n",
       "  <thead>\n",
       "    <tr style=\"text-align: right;\">\n",
       "      <th></th>\n",
       "      <th>book_id</th>\n",
       "      <th>title</th>\n",
       "      <th>ratings</th>\n",
       "      <th>url</th>\n",
       "      <th>cover_img</th>\n",
       "      <th>isbn</th>\n",
       "      <th>authors</th>\n",
       "      <th>description</th>\n",
       "    </tr>\n",
       "  </thead>\n",
       "  <tbody>\n",
       "    <tr>\n",
       "      <th>0</th>\n",
       "      <td>6066819</td>\n",
       "      <td>Best Friends Forever</td>\n",
       "      <td>51184</td>\n",
       "      <td>https://www.goodreads.com/book/show/6066819-be...</td>\n",
       "      <td>https://s.gr-assets.com/assets/nophoto/book/11...</td>\n",
       "      <td>0743294297</td>\n",
       "      <td>[{'author_id': '9212', 'role': ''}]</td>\n",
       "      <td>Addie Downs and Valerie Adler were eight when ...</td>\n",
       "    </tr>\n",
       "    <tr>\n",
       "      <th>1</th>\n",
       "      <td>287149</td>\n",
       "      <td>The Devil's Notebook</td>\n",
       "      <td>986</td>\n",
       "      <td>https://www.goodreads.com/book/show/287149.The...</td>\n",
       "      <td>https://images.gr-assets.com/books/1328768789m...</td>\n",
       "      <td>0922915113</td>\n",
       "      <td>[{'author_id': '2983296', 'role': ''}, {'autho...</td>\n",
       "      <td>Wisdom, humor, and dark observations by the fo...</td>\n",
       "    </tr>\n",
       "    <tr>\n",
       "      <th>2</th>\n",
       "      <td>6066814</td>\n",
       "      <td>Crowner Royal (Crowner John Mystery, #13)</td>\n",
       "      <td>186</td>\n",
       "      <td>https://www.goodreads.com/book/show/6066814-cr...</td>\n",
       "      <td>https://images.gr-assets.com/books/1328724803m...</td>\n",
       "      <td>184737297X</td>\n",
       "      <td>[{'author_id': '37778', 'role': ''}]</td>\n",
       "      <td>London, 1196. At the command of Richard the Li...</td>\n",
       "    </tr>\n",
       "    <tr>\n",
       "      <th>3</th>\n",
       "      <td>33394837</td>\n",
       "      <td>The House of Memory (Pluto's Snitch #2)</td>\n",
       "      <td>269</td>\n",
       "      <td>https://www.goodreads.com/book/show/33394837-t...</td>\n",
       "      <td>https://images.gr-assets.com/books/1493114742m...</td>\n",
       "      <td></td>\n",
       "      <td>[{'author_id': '242185', 'role': ''}]</td>\n",
       "      <td></td>\n",
       "    </tr>\n",
       "    <tr>\n",
       "      <th>4</th>\n",
       "      <td>89375</td>\n",
       "      <td>90 Minutes in Heaven: A True Story of Death an...</td>\n",
       "      <td>68157</td>\n",
       "      <td>https://www.goodreads.com/book/show/89375.90_M...</td>\n",
       "      <td>https://s.gr-assets.com/assets/nophoto/book/11...</td>\n",
       "      <td>0800759494</td>\n",
       "      <td>[{'author_id': '39054', 'role': ''}, {'author_...</td>\n",
       "      <td>As he is driving home from a minister's confer...</td>\n",
       "    </tr>\n",
       "    <tr>\n",
       "      <th>...</th>\n",
       "      <td>...</td>\n",
       "      <td>...</td>\n",
       "      <td>...</td>\n",
       "      <td>...</td>\n",
       "      <td>...</td>\n",
       "      <td>...</td>\n",
       "      <td>...</td>\n",
       "      <td>...</td>\n",
       "    </tr>\n",
       "    <tr>\n",
       "      <th>381185</th>\n",
       "      <td>17280727</td>\n",
       "      <td>دولة البطاطس</td>\n",
       "      <td>151</td>\n",
       "      <td>https://www.goodreads.com/book/show/17280727</td>\n",
       "      <td>https://images.gr-assets.com/books/1358953155m...</td>\n",
       "      <td></td>\n",
       "      <td>[{'author_id': '6479249', 'role': ''}]</td>\n",
       "      <td>mdh lw 'tk ywm bHytk wknt mHSran byn mDyin wms...</td>\n",
       "    </tr>\n",
       "    <tr>\n",
       "      <th>381186</th>\n",
       "      <td>31522515</td>\n",
       "      <td>Walking on My Grave</td>\n",
       "      <td>340</td>\n",
       "      <td>https://www.goodreads.com/book/show/31522515-w...</td>\n",
       "      <td>https://images.gr-assets.com/books/1490374478m...</td>\n",
       "      <td></td>\n",
       "      <td>[{'author_id': '4278425', 'role': ''}]</td>\n",
       "      <td>In the latest Death on Demand Mystery from the...</td>\n",
       "    </tr>\n",
       "    <tr>\n",
       "      <th>381187</th>\n",
       "      <td>15500943</td>\n",
       "      <td>Not Quickly Broken (Chop, Chop, #7)</td>\n",
       "      <td>456</td>\n",
       "      <td>https://www.goodreads.com/book/show/15500943-n...</td>\n",
       "      <td>https://images.gr-assets.com/books/1381765124m...</td>\n",
       "      <td></td>\n",
       "      <td>[{'author_id': '1995264', 'role': ''}]</td>\n",
       "      <td>While romance has always been a strong part of...</td>\n",
       "    </tr>\n",
       "    <tr>\n",
       "      <th>381188</th>\n",
       "      <td>1370179</td>\n",
       "      <td>The Brazilian Boss's Innocent Mistress</td>\n",
       "      <td>240</td>\n",
       "      <td>https://www.goodreads.com/book/show/1370179.Th...</td>\n",
       "      <td>https://s.gr-assets.com/assets/nophoto/book/11...</td>\n",
       "      <td>0373126646</td>\n",
       "      <td>[{'author_id': '45898', 'role': ''}]</td>\n",
       "      <td>Deep in the Brazilian rainforest lies a rich a...</td>\n",
       "    </tr>\n",
       "    <tr>\n",
       "      <th>381189</th>\n",
       "      <td>17805813</td>\n",
       "      <td>Ondine (Ondine Quartet, #0.5)</td>\n",
       "      <td>327</td>\n",
       "      <td>https://www.goodreads.com/book/show/17805813-o...</td>\n",
       "      <td>https://images.gr-assets.com/books/1379766592m...</td>\n",
       "      <td></td>\n",
       "      <td>[{'author_id': '4633056', 'role': ''}]</td>\n",
       "      <td>\"I shouldn't get involved.\"\\nRebellious and he...</td>\n",
       "    </tr>\n",
       "  </tbody>\n",
       "</table>\n",
       "<p>381190 rows × 8 columns</p>\n",
       "</div>"
      ],
      "text/plain": [
       "         book_id                                              title ratings  \\\n",
       "0        6066819                               Best Friends Forever   51184   \n",
       "1         287149                               The Devil's Notebook     986   \n",
       "2        6066814          Crowner Royal (Crowner John Mystery, #13)     186   \n",
       "3       33394837            The House of Memory (Pluto's Snitch #2)     269   \n",
       "4          89375  90 Minutes in Heaven: A True Story of Death an...   68157   \n",
       "...          ...                                                ...     ...   \n",
       "381185  17280727                                       دولة البطاطس     151   \n",
       "381186  31522515                                Walking on My Grave     340   \n",
       "381187  15500943                Not Quickly Broken (Chop, Chop, #7)     456   \n",
       "381188   1370179             The Brazilian Boss's Innocent Mistress     240   \n",
       "381189  17805813                      Ondine (Ondine Quartet, #0.5)     327   \n",
       "\n",
       "                                                      url  \\\n",
       "0       https://www.goodreads.com/book/show/6066819-be...   \n",
       "1       https://www.goodreads.com/book/show/287149.The...   \n",
       "2       https://www.goodreads.com/book/show/6066814-cr...   \n",
       "3       https://www.goodreads.com/book/show/33394837-t...   \n",
       "4       https://www.goodreads.com/book/show/89375.90_M...   \n",
       "...                                                   ...   \n",
       "381185       https://www.goodreads.com/book/show/17280727   \n",
       "381186  https://www.goodreads.com/book/show/31522515-w...   \n",
       "381187  https://www.goodreads.com/book/show/15500943-n...   \n",
       "381188  https://www.goodreads.com/book/show/1370179.Th...   \n",
       "381189  https://www.goodreads.com/book/show/17805813-o...   \n",
       "\n",
       "                                                cover_img        isbn  \\\n",
       "0       https://s.gr-assets.com/assets/nophoto/book/11...  0743294297   \n",
       "1       https://images.gr-assets.com/books/1328768789m...  0922915113   \n",
       "2       https://images.gr-assets.com/books/1328724803m...  184737297X   \n",
       "3       https://images.gr-assets.com/books/1493114742m...               \n",
       "4       https://s.gr-assets.com/assets/nophoto/book/11...  0800759494   \n",
       "...                                                   ...         ...   \n",
       "381185  https://images.gr-assets.com/books/1358953155m...               \n",
       "381186  https://images.gr-assets.com/books/1490374478m...               \n",
       "381187  https://images.gr-assets.com/books/1381765124m...               \n",
       "381188  https://s.gr-assets.com/assets/nophoto/book/11...  0373126646   \n",
       "381189  https://images.gr-assets.com/books/1379766592m...               \n",
       "\n",
       "                                                  authors  \\\n",
       "0                     [{'author_id': '9212', 'role': ''}]   \n",
       "1       [{'author_id': '2983296', 'role': ''}, {'autho...   \n",
       "2                    [{'author_id': '37778', 'role': ''}]   \n",
       "3                   [{'author_id': '242185', 'role': ''}]   \n",
       "4       [{'author_id': '39054', 'role': ''}, {'author_...   \n",
       "...                                                   ...   \n",
       "381185             [{'author_id': '6479249', 'role': ''}]   \n",
       "381186             [{'author_id': '4278425', 'role': ''}]   \n",
       "381187             [{'author_id': '1995264', 'role': ''}]   \n",
       "381188               [{'author_id': '45898', 'role': ''}]   \n",
       "381189             [{'author_id': '4633056', 'role': ''}]   \n",
       "\n",
       "                                              description  \n",
       "0       Addie Downs and Valerie Adler were eight when ...  \n",
       "1       Wisdom, humor, and dark observations by the fo...  \n",
       "2       London, 1196. At the command of Richard the Li...  \n",
       "3                                                          \n",
       "4       As he is driving home from a minister's confer...  \n",
       "...                                                   ...  \n",
       "381185  mdh lw 'tk ywm bHytk wknt mHSran byn mDyin wms...  \n",
       "381186  In the latest Death on Demand Mystery from the...  \n",
       "381187  While romance has always been a strong part of...  \n",
       "381188  Deep in the Brazilian rainforest lies a rich a...  \n",
       "381189  \"I shouldn't get involved.\"\\nRebellious and he...  \n",
       "\n",
       "[381190 rows x 8 columns]"
      ]
     },
     "execution_count": 13,
     "metadata": {},
     "output_type": "execute_result"
    }
   ],
   "source": [
    "titles"
   ]
  },
  {
   "cell_type": "code",
   "execution_count": 32,
   "id": "67ba7343",
   "metadata": {},
   "outputs": [],
   "source": [
    "titles[\"title\"] = titles[\"title\"].str.replace(\"[^a-zA-Z0-9 ]\", \"\", regex=True)"
   ]
  },
  {
   "cell_type": "code",
   "execution_count": 33,
   "id": "dc23d5d2",
   "metadata": {},
   "outputs": [],
   "source": [
    "titles[\"title\"] = titles[\"title\"].str.replace(\"[^(\\w+ ?)*$]\", \"\", regex=True)\n"
   ]
  },
  {
   "cell_type": "code",
   "execution_count": 31,
   "id": "8c5f37d7",
   "metadata": {},
   "outputs": [
    {
     "data": {
      "text/plain": [
       "0                                      Best Friends Forever\n",
       "1                                       The Devils Notebook\n",
       "2                     Crowner Royal Crowner John Mystery 13\n",
       "3                       The House of Memory Plutos Snitch 2\n",
       "4         90 Minutes in Heaven A True Story of Death and...\n",
       "                                ...                        \n",
       "381185                                                     \n",
       "381186                                  Walking on My Grave\n",
       "381187                       Not Quickly Broken Chop Chop 7\n",
       "381188                The Brazilian Bosss Innocent Mistress\n",
       "381189                             Ondine Ondine Quartet 05\n",
       "Name: title, Length: 381190, dtype: object"
      ]
     },
     "execution_count": 31,
     "metadata": {},
     "output_type": "execute_result"
    }
   ],
   "source": [
    "titles[\"title\"]"
   ]
  },
  {
   "cell_type": "code",
   "execution_count": null,
   "id": "22fd7b6f",
   "metadata": {},
   "outputs": [],
   "source": []
  },
  {
   "cell_type": "code",
   "execution_count": null,
   "id": "1878b03e",
   "metadata": {},
   "outputs": [],
   "source": []
  },
  {
   "cell_type": "code",
   "execution_count": null,
   "id": "5de2ffcb",
   "metadata": {},
   "outputs": [],
   "source": []
  },
  {
   "cell_type": "code",
   "execution_count": 14,
   "id": "28e17be4",
   "metadata": {},
   "outputs": [],
   "source": [
    "titles.to_csv(\"/Users/diegocristobal/code/dieg9906/book_recommender/book_recommender/data/books_withdesc.csv\")\n",
    "titles."
   ]
  },
  {
   "cell_type": "code",
   "execution_count": null,
   "id": "e4c5a1a0",
   "metadata": {
    "scrolled": true
   },
   "outputs": [],
   "source": [
    "titles_ratings=pd.to_numeric(titles[\"ratings\"])"
   ]
  },
  {
   "cell_type": "code",
   "execution_count": null,
   "id": "5268e3b5",
   "metadata": {},
   "outputs": [],
   "source": [
    "!pwd"
   ]
  },
  {
   "cell_type": "code",
   "execution_count": null,
   "id": "8ef97d60",
   "metadata": {},
   "outputs": [],
   "source": [
    "df_reviews = pd.read_csv('../data/goodreads_interactions.csv', nrows=1000)"
   ]
  },
  {
   "cell_type": "code",
   "execution_count": null,
   "id": "c12c2d3c",
   "metadata": {},
   "outputs": [],
   "source": [
    "df_reviews"
   ]
  },
  {
   "cell_type": "markdown",
   "id": "af4ecfad",
   "metadata": {
    "heading_collapsed": true
   },
   "source": [
    "# Reviews"
   ]
  },
  {
   "cell_type": "code",
   "execution_count": null,
   "id": "2631fed0",
   "metadata": {
    "hidden": true
   },
   "outputs": [],
   "source": [
    "with gzip.open(\"/Users/diegocristobal/code/dieg9906/book_recommender/book_recommender/data/goodreads_reviews_dedup.json.gz\",\"r\") as f:\n",
    "    line_review= f.readline()"
   ]
  },
  {
   "cell_type": "code",
   "execution_count": null,
   "id": "99b30eb6",
   "metadata": {
    "hidden": true
   },
   "outputs": [],
   "source": [
    "line_review"
   ]
  },
  {
   "cell_type": "code",
   "execution_count": null,
   "id": "97af15e0",
   "metadata": {
    "hidden": true
   },
   "outputs": [],
   "source": [
    "def parse_fields_review(line_review):\n",
    "    data_review=json.loads(line_review)\n",
    "    return{\n",
    "        \n",
    "        \"user_id\":data_review[\"user_id\"],\n",
    "        \"book_id\":data_review[\"book_id\"],\n",
    "        \"review_id\":data_review[\"review_id\"],\n",
    "        \"rating\":data_review[\"rating\"],\n",
    "        \"review_text\":data_review[\"review_text\"],\n",
    "        \"n_votes\": data_review[\"n_votes\"]\n",
    "        \n",
    "        \n",
    "    }\n"
   ]
  },
  {
   "cell_type": "code",
   "execution_count": null,
   "id": "a9e9d1fc",
   "metadata": {
    "hidden": true
   },
   "outputs": [],
   "source": [
    "%%time\n",
    "books_reviews=[]\n",
    "with gzip.open(\"/Users/diegocristobal/code/dieg9906/book_recommender/book_recommender/data/goodreads_reviews_dedup.json.gz\",\"r\") as f:\n",
    "    while True:\n",
    "        line_review=f.readline()\n",
    "        if not line_review:\n",
    "            break\n",
    "        fields=parse_fields_review(line_review)\n",
    "        try:\n",
    "            ratings=int(fields[\"rating\"])\n",
    "        except ValueError:\n",
    "            continue\n",
    "        try:\n",
    "            n_votes=int(fields[\"n_votes\"])\n",
    "        except ValueError:\n",
    "            continue    \n",
    "        if n_votes>20:\n",
    "            books_reviews.append(fields)\n",
    "            if len(books_reviews) > 1000:\n",
    "                break"
   ]
  },
  {
   "cell_type": "code",
   "execution_count": null,
   "id": "9f139ff8",
   "metadata": {
    "hidden": true
   },
   "outputs": [],
   "source": [
    "books_reviews"
   ]
  }
 ],
 "metadata": {
  "kernelspec": {
   "display_name": "Python 3 (ipykernel)",
   "language": "python",
   "name": "python3"
  },
  "language_info": {
   "codemirror_mode": {
    "name": "ipython",
    "version": 3
   },
   "file_extension": ".py",
   "mimetype": "text/x-python",
   "name": "python",
   "nbconvert_exporter": "python",
   "pygments_lexer": "ipython3",
   "version": "3.8.12"
  },
  "toc": {
   "base_numbering": 1,
   "nav_menu": {},
   "number_sections": true,
   "sideBar": true,
   "skip_h1_title": false,
   "title_cell": "Table of Contents",
   "title_sidebar": "Contents",
   "toc_cell": false,
   "toc_position": {},
   "toc_section_display": true,
   "toc_window_display": false
  }
 },
 "nbformat": 4,
 "nbformat_minor": 5
}

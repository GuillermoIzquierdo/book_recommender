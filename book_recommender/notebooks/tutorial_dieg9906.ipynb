{
 "cells": [
  {
   "cell_type": "markdown",
   "id": "11ae642a",
   "metadata": {},
   "source": [
    "# Books"
   ]
  },
  {
   "cell_type": "code",
   "execution_count": 1,
   "id": "c71369d2",
   "metadata": {},
   "outputs": [],
   "source": [
    "import pandas as pd\n",
    "import gzip\n",
    "with gzip.open(\"/Users/diegocristobal/code/dieg9906/book_recommender/book_recommender/data/goodreads_books.json.gz\",\"r\") as f:\n",
    "    line= f.readline()"
   ]
  },
  {
   "cell_type": "code",
   "execution_count": 2,
   "id": "ada1be16",
   "metadata": {},
   "outputs": [
    {
     "data": {
      "text/plain": [
       "b'{\"isbn\": \"0312853122\", \"text_reviews_count\": \"1\", \"series\": [], \"country_code\": \"US\", \"language_code\": \"\", \"popular_shelves\": [{\"count\": \"3\", \"name\": \"to-read\"}, {\"count\": \"1\", \"name\": \"p\"}, {\"count\": \"1\", \"name\": \"collection\"}, {\"count\": \"1\", \"name\": \"w-c-fields\"}, {\"count\": \"1\", \"name\": \"biography\"}], \"asin\": \"\", \"is_ebook\": \"false\", \"average_rating\": \"4.00\", \"kindle_asin\": \"\", \"similar_books\": [], \"description\": \"\", \"format\": \"Paperback\", \"link\": \"https://www.goodreads.com/book/show/5333265-w-c-fields\", \"authors\": [{\"author_id\": \"604031\", \"role\": \"\"}], \"publisher\": \"St. Martin\\'s Press\", \"num_pages\": \"256\", \"publication_day\": \"1\", \"isbn13\": \"9780312853129\", \"publication_month\": \"9\", \"edition_information\": \"\", \"publication_year\": \"1984\", \"url\": \"https://www.goodreads.com/book/show/5333265-w-c-fields\", \"image_url\": \"https://images.gr-assets.com/books/1310220028m/5333265.jpg\", \"book_id\": \"5333265\", \"ratings_count\": \"3\", \"work_id\": \"5400751\", \"title\": \"W.C. Fields: A Life on Film\", \"title_without_series\": \"W.C. Fields: A Life on Film\"}\\n'"
      ]
     },
     "execution_count": 2,
     "metadata": {},
     "output_type": "execute_result"
    }
   ],
   "source": [
    "line"
   ]
  },
  {
   "cell_type": "code",
   "execution_count": 3,
   "id": "0192384a",
   "metadata": {},
   "outputs": [],
   "source": [
    "import json"
   ]
  },
  {
   "cell_type": "code",
   "execution_count": 4,
   "id": "a2dd003a",
   "metadata": {},
   "outputs": [
    {
     "data": {
      "text/plain": [
       "{'isbn': '0312853122',\n",
       " 'text_reviews_count': '1',\n",
       " 'series': [],\n",
       " 'country_code': 'US',\n",
       " 'language_code': '',\n",
       " 'popular_shelves': [{'count': '3', 'name': 'to-read'},\n",
       "  {'count': '1', 'name': 'p'},\n",
       "  {'count': '1', 'name': 'collection'},\n",
       "  {'count': '1', 'name': 'w-c-fields'},\n",
       "  {'count': '1', 'name': 'biography'}],\n",
       " 'asin': '',\n",
       " 'is_ebook': 'false',\n",
       " 'average_rating': '4.00',\n",
       " 'kindle_asin': '',\n",
       " 'similar_books': [],\n",
       " 'description': '',\n",
       " 'format': 'Paperback',\n",
       " 'link': 'https://www.goodreads.com/book/show/5333265-w-c-fields',\n",
       " 'authors': [{'author_id': '604031', 'role': ''}],\n",
       " 'publisher': \"St. Martin's Press\",\n",
       " 'num_pages': '256',\n",
       " 'publication_day': '1',\n",
       " 'isbn13': '9780312853129',\n",
       " 'publication_month': '9',\n",
       " 'edition_information': '',\n",
       " 'publication_year': '1984',\n",
       " 'url': 'https://www.goodreads.com/book/show/5333265-w-c-fields',\n",
       " 'image_url': 'https://images.gr-assets.com/books/1310220028m/5333265.jpg',\n",
       " 'book_id': '5333265',\n",
       " 'ratings_count': '3',\n",
       " 'work_id': '5400751',\n",
       " 'title': 'W.C. Fields: A Life on Film',\n",
       " 'title_without_series': 'W.C. Fields: A Life on Film'}"
      ]
     },
     "execution_count": 4,
     "metadata": {},
     "output_type": "execute_result"
    }
   ],
   "source": [
    "\n",
    "json.loads(line)"
   ]
  },
  {
   "cell_type": "code",
   "execution_count": null,
   "id": "1c396135",
   "metadata": {},
   "outputs": [],
   "source": []
  },
  {
   "cell_type": "code",
   "execution_count": 5,
   "id": "c98a1e91",
   "metadata": {},
   "outputs": [],
   "source": [
    "def parse_fields_book(line):\n",
    "    data=json.loads(line)\n",
    "    return{\n",
    "        \n",
    "        \"book_id\":data[\"book_id\"],\n",
    "        \"title\":data[\"title_without_series\"],\n",
    "        \"ratings\":data[\"ratings_count\"],\n",
    "        \"url\":data[\"url\"],\n",
    "        \"cover_img\":data[\"image_url\"]\n",
    "        \n",
    "        \n",
    "    }"
   ]
  },
  {
   "cell_type": "markdown",
   "id": "2e74f396",
   "metadata": {},
   "source": [
    "Get rid of unnecesary columns and books with less than 15 reviews"
   ]
  },
  {
   "cell_type": "code",
   "execution_count": 6,
   "id": "aa619cb8",
   "metadata": {},
   "outputs": [],
   "source": [
    "books_titles=[]\n",
    "with gzip.open(\"/Users/diegocristobal/code/dieg9906/book_recommender/book_recommender/data/goodreads_books.json.gz\",\"r\") as f:\n",
    "    while True:\n",
    "        line=f.readline()\n",
    "        if not line:\n",
    "            break\n",
    "        fields=parse_fields_book(line)\n",
    "        \n",
    "        try:\n",
    "            ratings=int(fields[\"ratings\"])\n",
    "        except ValueError:\n",
    "            continue\n",
    "        if ratings>150:\n",
    "            books_titles.append(fields)\n"
   ]
  },
  {
   "cell_type": "markdown",
   "id": "66bb334d",
   "metadata": {},
   "source": [
    "Put our data into a Dataframe"
   ]
  },
  {
   "cell_type": "code",
   "execution_count": 7,
   "id": "0e869ff8",
   "metadata": {},
   "outputs": [],
   "source": [
    "titles=pd.DataFrame.from_dict(books_titles)"
   ]
  },
  {
   "cell_type": "code",
   "execution_count": 8,
   "id": "59f3e89f",
   "metadata": {},
   "outputs": [
    {
     "data": {
      "text/html": [
       "<div>\n",
       "<style scoped>\n",
       "    .dataframe tbody tr th:only-of-type {\n",
       "        vertical-align: middle;\n",
       "    }\n",
       "\n",
       "    .dataframe tbody tr th {\n",
       "        vertical-align: top;\n",
       "    }\n",
       "\n",
       "    .dataframe thead th {\n",
       "        text-align: right;\n",
       "    }\n",
       "</style>\n",
       "<table border=\"1\" class=\"dataframe\">\n",
       "  <thead>\n",
       "    <tr style=\"text-align: right;\">\n",
       "      <th></th>\n",
       "      <th>book_id</th>\n",
       "      <th>title</th>\n",
       "      <th>ratings</th>\n",
       "      <th>url</th>\n",
       "      <th>cover_img</th>\n",
       "    </tr>\n",
       "  </thead>\n",
       "  <tbody>\n",
       "    <tr>\n",
       "      <th>0</th>\n",
       "      <td>6066819</td>\n",
       "      <td>Best Friends Forever</td>\n",
       "      <td>51184</td>\n",
       "      <td>https://www.goodreads.com/book/show/6066819-be...</td>\n",
       "      <td>https://s.gr-assets.com/assets/nophoto/book/11...</td>\n",
       "    </tr>\n",
       "    <tr>\n",
       "      <th>1</th>\n",
       "      <td>287149</td>\n",
       "      <td>The Devil's Notebook</td>\n",
       "      <td>986</td>\n",
       "      <td>https://www.goodreads.com/book/show/287149.The...</td>\n",
       "      <td>https://images.gr-assets.com/books/1328768789m...</td>\n",
       "    </tr>\n",
       "    <tr>\n",
       "      <th>2</th>\n",
       "      <td>6066814</td>\n",
       "      <td>Crowner Royal (Crowner John Mystery, #13)</td>\n",
       "      <td>186</td>\n",
       "      <td>https://www.goodreads.com/book/show/6066814-cr...</td>\n",
       "      <td>https://images.gr-assets.com/books/1328724803m...</td>\n",
       "    </tr>\n",
       "    <tr>\n",
       "      <th>3</th>\n",
       "      <td>33394837</td>\n",
       "      <td>The House of Memory (Pluto's Snitch #2)</td>\n",
       "      <td>269</td>\n",
       "      <td>https://www.goodreads.com/book/show/33394837-t...</td>\n",
       "      <td>https://images.gr-assets.com/books/1493114742m...</td>\n",
       "    </tr>\n",
       "    <tr>\n",
       "      <th>4</th>\n",
       "      <td>89375</td>\n",
       "      <td>90 Minutes in Heaven: A True Story of Death an...</td>\n",
       "      <td>68157</td>\n",
       "      <td>https://www.goodreads.com/book/show/89375.90_M...</td>\n",
       "      <td>https://s.gr-assets.com/assets/nophoto/book/11...</td>\n",
       "    </tr>\n",
       "    <tr>\n",
       "      <th>...</th>\n",
       "      <td>...</td>\n",
       "      <td>...</td>\n",
       "      <td>...</td>\n",
       "      <td>...</td>\n",
       "      <td>...</td>\n",
       "    </tr>\n",
       "    <tr>\n",
       "      <th>381185</th>\n",
       "      <td>17280727</td>\n",
       "      <td>دولة البطاطس</td>\n",
       "      <td>151</td>\n",
       "      <td>https://www.goodreads.com/book/show/17280727</td>\n",
       "      <td>https://images.gr-assets.com/books/1358953155m...</td>\n",
       "    </tr>\n",
       "    <tr>\n",
       "      <th>381186</th>\n",
       "      <td>31522515</td>\n",
       "      <td>Walking on My Grave</td>\n",
       "      <td>340</td>\n",
       "      <td>https://www.goodreads.com/book/show/31522515-w...</td>\n",
       "      <td>https://images.gr-assets.com/books/1490374478m...</td>\n",
       "    </tr>\n",
       "    <tr>\n",
       "      <th>381187</th>\n",
       "      <td>15500943</td>\n",
       "      <td>Not Quickly Broken (Chop, Chop, #7)</td>\n",
       "      <td>456</td>\n",
       "      <td>https://www.goodreads.com/book/show/15500943-n...</td>\n",
       "      <td>https://images.gr-assets.com/books/1381765124m...</td>\n",
       "    </tr>\n",
       "    <tr>\n",
       "      <th>381188</th>\n",
       "      <td>1370179</td>\n",
       "      <td>The Brazilian Boss's Innocent Mistress</td>\n",
       "      <td>240</td>\n",
       "      <td>https://www.goodreads.com/book/show/1370179.Th...</td>\n",
       "      <td>https://s.gr-assets.com/assets/nophoto/book/11...</td>\n",
       "    </tr>\n",
       "    <tr>\n",
       "      <th>381189</th>\n",
       "      <td>17805813</td>\n",
       "      <td>Ondine (Ondine Quartet, #0.5)</td>\n",
       "      <td>327</td>\n",
       "      <td>https://www.goodreads.com/book/show/17805813-o...</td>\n",
       "      <td>https://images.gr-assets.com/books/1379766592m...</td>\n",
       "    </tr>\n",
       "  </tbody>\n",
       "</table>\n",
       "<p>381190 rows × 5 columns</p>\n",
       "</div>"
      ],
      "text/plain": [
       "         book_id                                              title ratings  \\\n",
       "0        6066819                               Best Friends Forever   51184   \n",
       "1         287149                               The Devil's Notebook     986   \n",
       "2        6066814          Crowner Royal (Crowner John Mystery, #13)     186   \n",
       "3       33394837            The House of Memory (Pluto's Snitch #2)     269   \n",
       "4          89375  90 Minutes in Heaven: A True Story of Death an...   68157   \n",
       "...          ...                                                ...     ...   \n",
       "381185  17280727                                       دولة البطاطس     151   \n",
       "381186  31522515                                Walking on My Grave     340   \n",
       "381187  15500943                Not Quickly Broken (Chop, Chop, #7)     456   \n",
       "381188   1370179             The Brazilian Boss's Innocent Mistress     240   \n",
       "381189  17805813                      Ondine (Ondine Quartet, #0.5)     327   \n",
       "\n",
       "                                                      url  \\\n",
       "0       https://www.goodreads.com/book/show/6066819-be...   \n",
       "1       https://www.goodreads.com/book/show/287149.The...   \n",
       "2       https://www.goodreads.com/book/show/6066814-cr...   \n",
       "3       https://www.goodreads.com/book/show/33394837-t...   \n",
       "4       https://www.goodreads.com/book/show/89375.90_M...   \n",
       "...                                                   ...   \n",
       "381185       https://www.goodreads.com/book/show/17280727   \n",
       "381186  https://www.goodreads.com/book/show/31522515-w...   \n",
       "381187  https://www.goodreads.com/book/show/15500943-n...   \n",
       "381188  https://www.goodreads.com/book/show/1370179.Th...   \n",
       "381189  https://www.goodreads.com/book/show/17805813-o...   \n",
       "\n",
       "                                                cover_img  \n",
       "0       https://s.gr-assets.com/assets/nophoto/book/11...  \n",
       "1       https://images.gr-assets.com/books/1328768789m...  \n",
       "2       https://images.gr-assets.com/books/1328724803m...  \n",
       "3       https://images.gr-assets.com/books/1493114742m...  \n",
       "4       https://s.gr-assets.com/assets/nophoto/book/11...  \n",
       "...                                                   ...  \n",
       "381185  https://images.gr-assets.com/books/1358953155m...  \n",
       "381186  https://images.gr-assets.com/books/1490374478m...  \n",
       "381187  https://images.gr-assets.com/books/1381765124m...  \n",
       "381188  https://s.gr-assets.com/assets/nophoto/book/11...  \n",
       "381189  https://images.gr-assets.com/books/1379766592m...  \n",
       "\n",
       "[381190 rows x 5 columns]"
      ]
     },
     "execution_count": 8,
     "metadata": {},
     "output_type": "execute_result"
    }
   ],
   "source": [
    "titles"
   ]
  },
  {
   "cell_type": "code",
   "execution_count": 9,
   "id": "e4c5a1a0",
   "metadata": {
    "scrolled": true
   },
   "outputs": [],
   "source": [
    "titles_ratings=pd.to_numeric(titles[\"ratings\"])"
   ]
  },
  {
   "cell_type": "code",
   "execution_count": 10,
   "id": "5268e3b5",
   "metadata": {},
   "outputs": [
    {
     "name": "stdout",
     "output_type": "stream",
     "text": [
      "/Users/diegocristobal/code/dieg9906/book_recommender/book_recommender/notebooks\r\n"
     ]
    }
   ],
   "source": [
    "!pwd"
   ]
  },
  {
   "cell_type": "code",
   "execution_count": 11,
   "id": "8ef97d60",
   "metadata": {},
   "outputs": [],
   "source": [
    "df_reviews = pd.read_csv('../data/goodreads_interactions.csv', nrows=1000)"
   ]
  },
  {
   "cell_type": "code",
   "execution_count": 12,
   "id": "c12c2d3c",
   "metadata": {},
   "outputs": [
    {
     "data": {
      "text/html": [
       "<div>\n",
       "<style scoped>\n",
       "    .dataframe tbody tr th:only-of-type {\n",
       "        vertical-align: middle;\n",
       "    }\n",
       "\n",
       "    .dataframe tbody tr th {\n",
       "        vertical-align: top;\n",
       "    }\n",
       "\n",
       "    .dataframe thead th {\n",
       "        text-align: right;\n",
       "    }\n",
       "</style>\n",
       "<table border=\"1\" class=\"dataframe\">\n",
       "  <thead>\n",
       "    <tr style=\"text-align: right;\">\n",
       "      <th></th>\n",
       "      <th>user_id</th>\n",
       "      <th>book_id</th>\n",
       "      <th>is_read</th>\n",
       "      <th>rating</th>\n",
       "      <th>is_reviewed</th>\n",
       "    </tr>\n",
       "  </thead>\n",
       "  <tbody>\n",
       "    <tr>\n",
       "      <th>0</th>\n",
       "      <td>0</td>\n",
       "      <td>948</td>\n",
       "      <td>1</td>\n",
       "      <td>5</td>\n",
       "      <td>0</td>\n",
       "    </tr>\n",
       "    <tr>\n",
       "      <th>1</th>\n",
       "      <td>0</td>\n",
       "      <td>947</td>\n",
       "      <td>1</td>\n",
       "      <td>5</td>\n",
       "      <td>1</td>\n",
       "    </tr>\n",
       "    <tr>\n",
       "      <th>2</th>\n",
       "      <td>0</td>\n",
       "      <td>946</td>\n",
       "      <td>1</td>\n",
       "      <td>5</td>\n",
       "      <td>0</td>\n",
       "    </tr>\n",
       "    <tr>\n",
       "      <th>3</th>\n",
       "      <td>0</td>\n",
       "      <td>945</td>\n",
       "      <td>1</td>\n",
       "      <td>5</td>\n",
       "      <td>0</td>\n",
       "    </tr>\n",
       "    <tr>\n",
       "      <th>4</th>\n",
       "      <td>0</td>\n",
       "      <td>944</td>\n",
       "      <td>1</td>\n",
       "      <td>5</td>\n",
       "      <td>0</td>\n",
       "    </tr>\n",
       "    <tr>\n",
       "      <th>...</th>\n",
       "      <td>...</td>\n",
       "      <td>...</td>\n",
       "      <td>...</td>\n",
       "      <td>...</td>\n",
       "      <td>...</td>\n",
       "    </tr>\n",
       "    <tr>\n",
       "      <th>995</th>\n",
       "      <td>1</td>\n",
       "      <td>1024</td>\n",
       "      <td>1</td>\n",
       "      <td>5</td>\n",
       "      <td>0</td>\n",
       "    </tr>\n",
       "    <tr>\n",
       "      <th>996</th>\n",
       "      <td>1</td>\n",
       "      <td>1021</td>\n",
       "      <td>1</td>\n",
       "      <td>5</td>\n",
       "      <td>0</td>\n",
       "    </tr>\n",
       "    <tr>\n",
       "      <th>997</th>\n",
       "      <td>1</td>\n",
       "      <td>943</td>\n",
       "      <td>1</td>\n",
       "      <td>5</td>\n",
       "      <td>0</td>\n",
       "    </tr>\n",
       "    <tr>\n",
       "      <th>998</th>\n",
       "      <td>1</td>\n",
       "      <td>1020</td>\n",
       "      <td>0</td>\n",
       "      <td>0</td>\n",
       "      <td>0</td>\n",
       "    </tr>\n",
       "    <tr>\n",
       "      <th>999</th>\n",
       "      <td>1</td>\n",
       "      <td>704</td>\n",
       "      <td>1</td>\n",
       "      <td>5</td>\n",
       "      <td>0</td>\n",
       "    </tr>\n",
       "  </tbody>\n",
       "</table>\n",
       "<p>1000 rows × 5 columns</p>\n",
       "</div>"
      ],
      "text/plain": [
       "     user_id  book_id  is_read  rating  is_reviewed\n",
       "0          0      948        1       5            0\n",
       "1          0      947        1       5            1\n",
       "2          0      946        1       5            0\n",
       "3          0      945        1       5            0\n",
       "4          0      944        1       5            0\n",
       "..       ...      ...      ...     ...          ...\n",
       "995        1     1024        1       5            0\n",
       "996        1     1021        1       5            0\n",
       "997        1      943        1       5            0\n",
       "998        1     1020        0       0            0\n",
       "999        1      704        1       5            0\n",
       "\n",
       "[1000 rows x 5 columns]"
      ]
     },
     "execution_count": 12,
     "metadata": {},
     "output_type": "execute_result"
    }
   ],
   "source": [
    "df_reviews"
   ]
  },
  {
   "cell_type": "markdown",
   "id": "af4ecfad",
   "metadata": {},
   "source": [
    "# Reviews"
   ]
  },
  {
   "cell_type": "code",
   "execution_count": 41,
   "id": "2631fed0",
   "metadata": {},
   "outputs": [],
   "source": [
    "with gzip.open(\"/Users/diegocristobal/code/dieg9906/book_recommender/book_recommender/data/goodreads_reviews_dedup.json.gz\",\"r\") as f:\n",
    "    line_review= f.readline()"
   ]
  },
  {
   "cell_type": "code",
   "execution_count": 42,
   "id": "99b30eb6",
   "metadata": {},
   "outputs": [
    {
     "data": {
      "text/plain": [
       "b'{\"user_id\": \"8842281e1d1347389f2ab93d60773d4d\", \"book_id\": \"24375664\", \"review_id\": \"5cd416f3efc3f944fce4ce2db2290d5e\", \"rating\": 5, \"review_text\": \"Mind blowingly cool. Best science fiction I\\'ve read in some time. I just loved all the descriptions of the society of the future - how they lived in trees, the notion of owning property or even getting married was gone. How every surface was a screen. \\\\n The undulations of how society responds to the Trisolaran threat seem surprising to me. Maybe its more the Chinese perspective, but I wouldn\\'t have thought the ETO would exist in book 1, and I wouldn\\'t have thought people would get so over-confident in our primitive fleet\\'s chances given you have to think that with superior science they would have weapons - and defenses - that would just be as rifles to arrows once were. \\\\n But the moment when Luo Ji won as a wallfacer was just too cool. I may have actually done a fist pump. Though by the way, if the Dark Forest theory is right - and I see no reason why it wouldn\\'t be - we as a society should probably stop broadcasting so much signal out into the universe.\", \"date_added\": \"Fri Aug 25 13:55:02 -0700 2017\", \"date_updated\": \"Mon Oct 09 08:55:59 -0700 2017\", \"read_at\": \"Sat Oct 07 00:00:00 -0700 2017\", \"started_at\": \"Sat Aug 26 00:00:00 -0700 2017\", \"n_votes\": 16, \"n_comments\": 0}\\n'"
      ]
     },
     "execution_count": 42,
     "metadata": {},
     "output_type": "execute_result"
    }
   ],
   "source": [
    "line_review"
   ]
  },
  {
   "cell_type": "code",
   "execution_count": 55,
   "id": "97af15e0",
   "metadata": {},
   "outputs": [],
   "source": [
    "def parse_fields_review(line_review):\n",
    "    data_review=json.loads(line_review)\n",
    "    return{\n",
    "        \n",
    "        \"user_id\":data_review[\"user_id\"],\n",
    "        \"book_id\":data_review[\"book_id\"],\n",
    "        \"review_id\":data_review[\"review_id\"],\n",
    "        \"rating\":data_review[\"rating\"],\n",
    "        \"review_text\":data_review[\"review_text\"],\n",
    "        \"n_votes\": data_review[\"n_votes\"]\n",
    "        \n",
    "        \n",
    "    }\n"
   ]
  },
  {
   "cell_type": "code",
   "execution_count": 68,
   "id": "a9e9d1fc",
   "metadata": {},
   "outputs": [
    {
     "name": "stdout",
     "output_type": "stream",
     "text": [
      "CPU times: user 755 ms, sys: 13.8 ms, total: 769 ms\n",
      "Wall time: 780 ms\n"
     ]
    }
   ],
   "source": [
    "%%time\n",
    "books_reviews=[]\n",
    "with gzip.open(\"/Users/diegocristobal/code/dieg9906/book_recommender/book_recommender/data/goodreads_reviews_dedup.json.gz\",\"r\") as f:\n",
    "    while True:\n",
    "        line_review=f.readline()\n",
    "        if not line_review:\n",
    "            break\n",
    "        fields=parse_fields_review(line_review)\n",
    "        try:\n",
    "            ratings=int(fields[\"rating\"])\n",
    "        except ValueError:\n",
    "            continue\n",
    "        try:\n",
    "            n_votes=int(fields[\"n_votes\"])\n",
    "        except ValueError:\n",
    "            continue    \n",
    "        if n_votes>20:\n",
    "            books_reviews.append(fields)\n",
    "            if len(books_reviews) > 1000:\n",
    "                break"
   ]
  },
  {
   "cell_type": "code",
   "execution_count": 66,
   "id": "9f139ff8",
   "metadata": {},
   "outputs": [
    {
     "data": {
      "text/plain": [
       "[{'user_id': '8842281e1d1347389f2ab93d60773d4d',\n",
       "  'book_id': '24375664',\n",
       "  'review_id': '5cd416f3efc3f944fce4ce2db2290d5e',\n",
       "  'rating': 5,\n",
       "  'review_text': \"Mind blowingly cool. Best science fiction I've read in some time. I just loved all the descriptions of the society of the future - how they lived in trees, the notion of owning property or even getting married was gone. How every surface was a screen. \\n The undulations of how society responds to the Trisolaran threat seem surprising to me. Maybe its more the Chinese perspective, but I wouldn't have thought the ETO would exist in book 1, and I wouldn't have thought people would get so over-confident in our primitive fleet's chances given you have to think that with superior science they would have weapons - and defenses - that would just be as rifles to arrows once were. \\n But the moment when Luo Ji won as a wallfacer was just too cool. I may have actually done a fist pump. Though by the way, if the Dark Forest theory is right - and I see no reason why it wouldn't be - we as a society should probably stop broadcasting so much signal out into the universe.\",\n",
       "  'n_votes': 16},\n",
       " {'user_id': '8842281e1d1347389f2ab93d60773d4d',\n",
       "  'book_id': '18245960',\n",
       "  'review_id': 'dfdbb7b0eb5a7e4c26d59a937e2e5feb',\n",
       "  'rating': 5,\n",
       "  'review_text': 'This is a special book. It started slow for about the first third, then in the middle third it started to get interesting, then the last third blew my mind. This is what I love about good science fiction - it pushes your thinking about where things can go. \\n It is a 2015 Hugo winner, and translated from its original Chinese, which made it interesting in just a different way from most things I\\'ve read. For instance the intermixing of Chinese revolutionary history - how they kept accusing people of being \"reactionaries\", etc. \\n It is a book about science, and aliens. The science described in the book is impressive - its a book grounded in physics and pretty accurate as far as I could tell. Though when it got to folding protons into 8 dimensions I think he was just making stuff up - interesting to think about though. \\n But what would happen if our SETI stations received a message - if we found someone was out there - and the person monitoring and answering the signal on our side was disillusioned? That part of the book was a bit dark - I would like to think human reaction to discovering alien civilization that is hostile would be more like Enders Game where we would band together. \\n I did like how the book unveiled the Trisolaran culture through the game. It was a smart way to build empathy with them and also understand what they\\'ve gone through across so many centuries. And who know a 3 body problem was an unsolvable math problem? But I still don\\'t get who made the game - maybe that will come in the next book. \\n I loved this quote: \\n \"In the long history of scientific progress, how many protons have been smashed apart in accelerators by physicists? How many neutrons and electrons? Probably no fewer than a hundred million. Every collision was probably the end of the civilizations and intelligences in a microcosmos. In fact, even in nature, the destruction of universes must be happening at every second--for example, through the decay of neutrons. Also, a high-energy cosmic ray entering the atmosphere may destroy thousands of such miniature universes....\"',\n",
       "  'n_votes': 28},\n",
       " {'user_id': '8842281e1d1347389f2ab93d60773d4d',\n",
       "  'book_id': '22078596',\n",
       "  'review_id': 'fdd13cad0695656be99828cd75d6eb73',\n",
       "  'rating': 4,\n",
       "  'review_text': \"Fun, fast paced, and disturbing tale of murder. Great beach read while in France, which is where its set. \\n I enjoyed learning more about perfume and the power of scent - hearing the descriptions of how different kinds of scents are captured (distilled, oils, etc) was very interesting. I think in general we (certainly I) don't pay much attention to the power that scent holds over us in different situations. I will pay more attention now after reading this. Though I wish I had a stronger nose - curious if there are ways to cultivate that. My wife and I once bought a game at a wine store that had 30 different materials that they use in wine and you had to guess what they were. I think I got 3 out of 30 right :( \\n This was a dark and twisted book though be forewarned - I generally don't like reading first person accounts of murderers - but in this case it was gripping. And the climax (yes that was a pun) was so ridiculous and fun that it was worth it.\",\n",
       "  'n_votes': 22},\n",
       " {'user_id': '8842281e1d1347389f2ab93d60773d4d',\n",
       "  'book_id': '9460786',\n",
       "  'review_id': 'fc24c814e34ec6da3aa5293b7ec70dd9',\n",
       "  'rating': 4,\n",
       "  'review_text': \"Giving a high rating because I heard the organizer of the Long Now Foundation speak and it was very inspiring. The Interval Cafe in San Francisco is also awesome and has The Long Library in it. \\n The part of the story that I liked most was the power of long thinking. How Oxford College has some gorgeous oak tree beams in their dining room, and they were crumbling, and so they wondered how to replace them. They created a search, and happened to ask the Oxford groundskeeper if any of the oak trees on campus would work, and he said yes, they should use the grove that was planted 500 years ago for that very purpose. So they did, and then planted another grove for 500 years from now. That's the power of long term thinking - how many of us are able to think that far ahead? That story is what inspired the clock, which is getting closer to completion and sounds pretty cool. \\n The book was published in 1999 so I found a bunch of the ideas dated and found myself skimming through them, so only partially read this.\",\n",
       "  'n_votes': 13},\n",
       " {'user_id': '8842281e1d1347389f2ab93d60773d4d',\n",
       "  'book_id': '29983426',\n",
       "  'review_id': '18479ea761f5f7d66d53cf753d6a3186',\n",
       "  'rating': 5,\n",
       "  'review_text': 'I decided to give up eating processed sugar for the month of January, and so reading a book with this title seemed like it would help me adhere. And not only did it succeed in that goal, but I think it put a permanent, deep scare in me about sugar. The book basically argues that sugar is the root cause of obesity, diabetes, heart disease, and even a lot of cancer. \\n What is interesting is while all of us know that sugar is not good for us, the only thing that people officially blame on overconsumption of it is tooth decay. Obesity is highly correlated with diabetes, heart disease, and a number of other bad things. If you Google for the cause of obesity, you see statements like \"Obesity is generally caused by eating too much and moving too little. If you consume high amounts of energy, particularly fat and sugars, but don\\'t burn off the energy through exercise and physical activity, much of the surplus energy will be stored by the body as fat.\" This book makes the argument that a calorie is not a calorie, that sugar is actually toxic, but unlike other toxins it takes decades of overconsumption to show up - which has made it hard to prove. \\n The statistics are fascinating. Fifty years ago, one in eight American adults was obese; today the number is greater than one in three. Diabetes has gone from 1 in 2,000-3,000 to 1 in 7-8, which is an astounding increase. The book listed numerous examples of native populations that suffered from a similar diabetes epidemic after adopting the \"western diets and lifestyle\". What is it about western lifestyle that has done this? The culprit is almost certainly something in the diet, and linked to processed foods - and after reading this book, it seems very logical that sugar is either the root or one of the main root causes. \\n \"By the late 1970s, though, sugar had mostly vanished from the discussion. Dietary fat had been implicated as a cause of heart disease. Nutritionists and public-health authorities responded by rejecting the idea that sugar could be responsible for the diseases that associated with heart disease, which included both obesity and diabetes.\" \\n The book gives a fascinating history of how nutritionists and the government have viewed sugar as largely harmless. This included an impressive amount of lobbying from the sugar industry to vindicate themselves. Mind-blowingly, the sugar industry back in the 50\\'s actually advertised sugar as a great, healthy way to get calories. Sugar has never, and largely is still not thought of as a root cause of obesity - the narrative is still more about fats and \"lifestyle\" (i.e. lack of exercise). \\n \"To the sugar industry, it has been the gift that keeps on giving, the ultimate defense against all arguments and evidence that sugar is uniquely toxic. This is the idea that we get obese or overweight because we take in more calories than we expend or excrete. By this thinking, researchers and public-health authorities think of obesity as a disorder of \"energy balance,\" a concept that has become so ingrained in conventional thinking, so widespread, that arguments to the contrary have typically been treated as quackery, if not a willful disavowal of the laws of physics.\" \\n \"Fat\" is often the culprit named for people getting fat (even the word is the same!), and thus was born a processed food industry that touts \"low-fat\" items (which are then rich in sugar+salt to offset the bad taste). But looking at populations that eat high fat content but low sugar, shows lower rates of obesity and heart disease. For instance, the French. \\n \"When researchers realized that the French had relatively low rates of heart disease despite a diet that was rich in saturated fats, they wrote it off as an inexplicable \"paradox,\" and ignored the fact that the French traditionally consumed far less sugar than did populations-- the Americans and British, most notably-- in which coronary disease seemed to be a scourge. At the end of the eighteenth century, French per capita sugar consumption was less than a fifth of what it was in England. At the end of the nineteenth century, even after the beet-sugar revolution, France was still lagging far behind both the British and the Americans-- thirty-three pounds for the French compared with eighty-eight for the English and sixty-six for Americans.\" \\n Interestingly, when we say \"sugar\" we can actually be referring to a number of things: fructose, glucose, or sucrose. Glucose is used to refer to blood sugar levels in blood, and also comes from eating carb rich foods like bread or potatoes. Sucrose is table sugar, which actually made of part fructose. Fructose is the scary one because \"it is very different from other sugars because it has a different metabolic pathway and is not the preferred energy source for muscles or the brain.\". Fructose is found in fruit but as such low levels that it isn\\'t harmful, plus its offset by rich fibers. But high fructose corn syrup? Avoid at all costs. \\n The logic is basically: IF excess sugar (fructose notably) leads to insulin resistance, THEN we can say with confidence that it is likely a root cause of obesity, diabetes, heart disease, and even cancer, as it\\'s been proven to be correlated with all those things. High fat diets - particularly the wrong sorts of fats - are also involved if eaten in excess. The logic seems solid - and yet even searching \"what causes obesity\" you don\\'t see sugar named as a key cause. I\\'d be very curious to learn from nutritionists what the think of this logic. \\n \"Is it that we\\'re all simply eating too much and exercising too little, which is the one simple answer that the nutritional establishment will embrace in the face of so much evidence to the contrary? Another simple answer, and a more likely one, is sugar.\"',\n",
       "  'n_votes': 26},\n",
       " {'user_id': '8842281e1d1347389f2ab93d60773d4d',\n",
       "  'book_id': '29893493',\n",
       "  'review_id': 'c23406fb584d6304d1dd4c75ce26ea3a',\n",
       "  'rating': 5,\n",
       "  'review_text': 'I haven\\'t read a non-fiction book this engaging in some time. This was an amazingly well written autobiography. It read like a fast paced novel through much of it. Many autobiographies are too long - this one if anything is too short! Like many startup companies, the story of Nike (or Blue Ribbon Shoes as it was initially called) is one of trials, tribulations, and lots of passion and grit. I ate it up, and highly recommend it. \\n The most defining moment of the story is Knights ballsy move while backpacking through Japan at the age of 24, to walk into a Japanese shoe manufacturer and say he has a shoe distribution company, and get a exclusive deal for the western US. Gutsy. He \"just did it\" (sorry, but apt). I love learning examples of this kind of \"Do things that don\\'t scale\" start to successful companies (eg Zappos, Amazon, many more). From there the story is one of doubling sales each year, and never quite having enough money on the balance sheet to make it anything but very risky. It was interesting - no fascinating - that Phil had an accounting background, and was well versed that the reason most startups fail is a lack of cash reserves, and yet he had so much faith in his growth and sales that he kept plowing all cash into growth. I loved reading the stories of how they barely made it from one order to the next, how twice they had to switch banks after being cut off. \\n One of the key strategies of Nike\\'s success today is athlete endorsement, and it was interesting to see how that strategy was formed in the early years. How they would offer large sums of money to athletes to wear their shoes - often to athletes already wearing their shoes - double down on people who already like your product. It was doubly interesting that Phil didn\\'t initially believe in the power of advertising - I\\'d be very curious to hear how his opinion on that changed over time. \\n The story of Prefontaine was a touching one, and one that stayed with me. I wasn\\'t as familiar of the story of Pre, but had heard of him. But I didn\\'t know the role that Nike sponsored him, and even employed him. Reading Phil talk about him, you got a sense of the passion his has for the sport of running. You got a sense that the story of Pre - his passion and drive - is a metaphor for how Nike was built. This quote says it better: \\n \"For eleven laps they ran a half stride apart. With the crowd now roaring, frothing, shrieking, the two men entered the final lap. It felt like a boxing match. It felt like a joust. It felt like a bullfight, and we were down to that moment of truth--death hanging in the air. Pre reached down, found another level--we saw him do it. He opened up a yard lead, then two, then five. We saw Young grimacing and we knew that he could not, would not, catch Pre. I told myself, Don\\'t forget this. Do not forget. I told myself there was much to be learned from such a display of passion, whether you were running a mile or a company.\" \\n The book is a fascinating telling of the founding and early history of Nike. But it stops at the IPO, and then gives a chapter postlude. This is my only complaint. It was so well written - keep going! Tell us the story of Just Do It, Air Jordans, and so many more. I could read 4 more volumes of this, as it feels like there is so much more to they story of Nike to learn.',\n",
       "  'n_votes': 29},\n",
       " {'user_id': '8842281e1d1347389f2ab93d60773d4d',\n",
       "  'book_id': '28114110',\n",
       "  'review_id': 'fb5bdf2100832503e17ef0c8dd1add7f',\n",
       "  'rating': 4,\n",
       "  'review_text': 'Kevin Kelly, who is a Wired co-founder, lays out technological trends that are \"inevitable\". Like too many nonfiction books, I found a few chapters to be worth reading, and a few not to be. I enjoyed the sections on AI and books. And sometimes just zooming out to get bigger perspective is engaging, which was the case for me in the sections on VR/AR and tracking. Much of the rest of the book seemed geared for people less technically savvy, which was my only complaint as it really drew the book out. \\n There is a famous saying in software said by Marc Andreeson that \"software is eating the world\". Kelly predicts, I believe correctly, that the next phase of this will be AI: \"It is hard to imagine anything that would \"change everything\" as much as cheap, powerful, ubiquitous artificial\". Kelly\\'s perspective here that while it might feel like innovation in technology is slowing to some, it is much more likely that we are on the brink of the next renaissance, and we will all be \"taking X and adding AI\", much as happened with electricity and then the internet. \\n Kelly correctly identified the three key trends that are making AI an exciting space today: processing power (GPU\\'s), data, and better algorithms. However he didn\\'t dive more into the longest pole: how to get a lot more data than we have today - that seems to me to be the key. But cool to get an overview. He did address one of the big fears about automation that many people have today: will computers take all our jobs? The quick answer is yes, but we\\'ll have new ones. This has already happened multiple times in history. I agree with this, but think the more interesting question is what will happen when we can provide most people the basics (food, water, shelter) for very little cost. This was predicted in Diamond Age, and the answer was \"parking lots and chaos\", and a lot of people with no purpose in life. \\n I also greatly enjoyed the section on books, mostly because (1) Goodreads is mentioned (hey I have paternal pride), and (2) it talks about things we at Goodreads are working on. Such as, the ability to see other peoples notes: \"Reading becomes social. With screens we can share not just the titles of books we are reading, but our reactions and notes as we read them. Today, we can highlight a passage. Tomorrow, we will be able to link passages.\" Well, here are my notes from this book! \\n Another big idea that Kelly hits on that I think is big and inevitable is how each book will become networked, much as the WWW has. Once we have ability to have pointers into and out from each sentence of a book, the speed at which ideas will fly out of books will step function. \\n In the goodness of time, as all books become fully digital, every one of them will accumulate the equivalent of blue underlined passages as each literary reference is networked within that book out to all other books. Each page in a book will discover other pages and other books. Thus books will seep out of their bindings and weave themselves together into one large metabook, the universal library. The resulting collective intelligence of this synaptically connected library allows us to see things we can\\'t see in a single isolated book.',\n",
       "  'n_votes': 14},\n",
       " {'user_id': '8842281e1d1347389f2ab93d60773d4d',\n",
       "  'book_id': '8191070',\n",
       "  'review_id': '8fb75b37b3613a34e39169f139870f31',\n",
       "  'rating': 5,\n",
       "  'review_text': 'Best book of the series, and best book about American history that I think I\\'ve read. Now we are getting to the drama and corruption at an interesting scale - the US Senate. And the portrait we have of Johnson is fascinating. \\n Lyndon Johnson was just simply power hungry. He had no principles of note, no things he was on a mission to do - except to hold as much power as he could. But he was brilliant at reading people, knowing what they wanted, and finding ways to horse-trade in his huge and growing network - and help them get it. A genius at being a politician. But lacking principles - I hope there are politicians that can do both. \\n But this is not just a book about LBJ and his time in the senate - it is a history of the senate, and of 1960\\'s America. I didn\\'t appreciate the power the Senate has in US politics - small numbers of senators can block legislation for a long time. The book hints that WWII can be blamed on the senate - because the president wanted to act against Hitler much earlier but the senate didn\\'t let him - a crazy allegation if true. And the filibusters! I didn\\'t appreciate what those really were and how powerful they were. It was also very impressive reading how quickly LBJ took over leadership of the Senate - most senators had to wait until they were old to have the seniority to do much - LBJ within two years of being a senator had become elected leader and then did away with the seniority rule - both unprecedented changes. \\n And of course, much of the book is about the fact that the southern senators collaborated to prevent any civil rights legislation for 100 years. It was well into the 20th century before African Americans got the right to vote, and we removed segregation - and this delay is all due to the senate. \\n LBJ is known for being the president who passed civil rights - but the story of how he was a \"southern senator\" (from Texas) who had the southern senators as his base, but had to pass civil rights bills through the senate in order to make the liberals believe he was on their side so he could have a presidential bid - was fascinating. He did it not caring a single bit about the actual cause - it was simply the only path to be president, as the country had hit a point where the northerners were no longer going to let segregation go on, and the southerners were only going to give it up over their dead bodies. LBJ worked both sides, found compromises, made each side believe he was really on their side, and got the first ever civil rights bill of the 1900\\'s passed to give African Americans the right to vote.',\n",
       "  'n_votes': 25},\n",
       " {'user_id': '8842281e1d1347389f2ab93d60773d4d',\n",
       "  'book_id': '28684704',\n",
       "  'review_id': '2ede853b14dc4583f96cf5d120af636f',\n",
       "  'rating': 3,\n",
       "  'review_text': 'A fun, fast paced science fiction thriller. I read it in 2 nights and couldn\\'t put it down. The book is about the quantum theory of many worlds which states that all decisions we make throughout our lives basically create branches, and that each possible path through the decision tree can be thought of as a parallel world. And in this book, someone invents a way to switch between these worlds. This was nicely alluded to/foreshadowed in this quote: \\n \"I think about all the choices we\\'ve made that created this moment. Us sitting here together at this beautiful table. Then I think of all the possible events that could have stopped this moment from ever happening, and it all feels, I don\\'t know...\" \"What?\" \"So fragile.\" Now he becomes thoughtful for a moment. He says finally, \"It\\'s terrifying when you consider that every thought we have, every choice we could possibly make, branches into a new world.\" \\n This book can\\'t be discussed without spoilers. It is a book about choice and regret. Ever regret not chasing the girl of your dreams so you can focus on your career? Well Jason2 made that choice and then did regret it. Clearly the author is trying to tell us to optimize for happiness - to be that second rate physics teacher at a community college if it means you can have a happy life. I\\'m being snarky because while there is certainly something to that, you also have to have meaning in your life that comes from within. I thought the book was a little shallow on this dimension. In fact, all the characters were fairly shallow. Daniela was the perfect wife. Ryan the perfect antithesis of Jason. Amanda the perfect loyal traveling companion, etc. This, plus the fact that the book was weak on the science are what led me to take a few stars off - but I\\'d still read it again if I could go back in time - was a very fun and engaging read. \\n If you want to really minimize regret, you have to live your life to avoid it in the first place. Regret can\\'t be hacked, which is kind of the point of the book. My favorite book about regret is Remains of the Day. I do really like the visualization of the decision tree though - that is a powerful concept. \\n \"Every moment, every breath, contains a choice. But life is imperfect. We make the wrong choices. So we end up living in a state of perpetual regret, and is there anything worse? I built something that could actually eradicate regret. Let you find worlds where you made the right choice.\" Daniela says, \"Life doesn\\'t work that way. You live with your choices and learn. You don\\'t cheat the system.\"',\n",
       "  'n_votes': 22},\n",
       " {'user_id': '8842281e1d1347389f2ab93d60773d4d',\n",
       "  'book_id': '32768285',\n",
       "  'review_id': '6d37be8de2959abec5cb7a0d7b62c89f',\n",
       "  'rating': 5,\n",
       "  'review_text': 'A fun, humorous, fast-paced, and fascinating take on what happens when an AI awakens. In order to tell this story, Reid invents a fictional Silicon Valley company called Pluttr, which seems sort of like a mashup of Snapchat+Facebook+WeChat but with more big data about us all, so it\\'s able to really personalize it\\'s experience. Frankly it seems like a good idea and where the afore mentioned companies are likely going. And this is one of my favorite things about good science fiction - it predicts the future. While not everything about this novel will come true, it is clear that Reid - who is a former tech CEO himself (and disclosure, a friend) - did his homework about technological trends and weaves them in nicely to a thrilling singularity story (Note: the book doesn\\'t use the word \"singularity\" at all, in a homage to current silicon valley trends, because for some reason that I get but don\\'t quite understand that word is passe - but instead to renames it \"the omega point\"). \\n One of the most interesting aspects of the book for me is the fictional company Phluttr. I mean, when an AI finally awakens you\\'d have to put your money on Google doing it (if it happens in the private sector) - they are the furthest along in the intersection of having the key ingredients: lots of data about people, AI technology, and computing power. But I suppose it would be weird to use a real company - Dave Eggers The Circle was similar in describing a company that was basically FB+Google. But as I said, it does seem like the descriptions of Phluttr will happen, once the both the AI improves (pretty much possible now), the dataset known about each user vastly increases (happening in some pockets), and computing power improves (will be there soon). And thinking through the possibilities of what that will enable was super fun. For instance, there was an scene in the beginning of the book where Phluttr deduced that two of the characters were at the same bar and likely there on a date, and gave them coupons and messages/information appropriate to that deduction. \\n One of the more interesting philosophical questions tackled by the book is: should we try to accelerate creation of a super AI? Since the first one created will have a decisive advantage and any other super AI\\'s created will never catch up to its intelligence nor power. Many think that the creation of a super AI is inevitable anyways, and there is a chance that whoever creates it may retain some control or benefit - though there is a very high risk you wouldn\\'t - which is the debate. The book has characters that take both sides of this question, but ultimately lands that major countries (US, China, others) will get into an \"arms race\" and strive to create it. Doesn\\'t seem unlikely. AI in general (regardless of a super AI) will be the next nuclear arms race, no question - already is if you look at all the hacking and security issues (eg US presidential election). \\n But don\\'t let my introspections about the subject matter make you think this is a deep thinking AI book. It is a fast paced, fun thriller with a twist at the end. It\\'s also got a good amount of self-deprecating-silicon-valley humor - eg I loved the fictional persuadif.er blog, with posts such as \"Eat on the phone\" and then you find poor characters like Pugwash doing just that. Or fun references thrown in like how Tim Tebow is now a VR tycoon (huh?). Bottom line: this captures interesting technological trends in a humorous & thrilling read - highly recommended!',\n",
       "  'n_votes': 16}]"
      ]
     },
     "execution_count": 66,
     "metadata": {},
     "output_type": "execute_result"
    }
   ],
   "source": [
    "books_reviews"
   ]
  }
 ],
 "metadata": {
  "kernelspec": {
   "display_name": "Python 3 (ipykernel)",
   "language": "python",
   "name": "python3"
  },
  "language_info": {
   "codemirror_mode": {
    "name": "ipython",
    "version": 3
   },
   "file_extension": ".py",
   "mimetype": "text/x-python",
   "name": "python",
   "nbconvert_exporter": "python",
   "pygments_lexer": "ipython3",
   "version": "3.8.12"
  },
  "toc": {
   "base_numbering": 1,
   "nav_menu": {},
   "number_sections": true,
   "sideBar": true,
   "skip_h1_title": false,
   "title_cell": "Table of Contents",
   "title_sidebar": "Contents",
   "toc_cell": false,
   "toc_position": {},
   "toc_section_display": true,
   "toc_window_display": false
  }
 },
 "nbformat": 4,
 "nbformat_minor": 5
}

{
  "nbformat": 4,
  "nbformat_minor": 0,
  "metadata": {
    "colab": {
      "name": "data-test.ipynb",
      "provenance": [],
      "collapsed_sections": []
    },
    "kernelspec": {
      "name": "python3",
      "display_name": "Python 3"
    },
    "language_info": {
      "name": "python"
    }
  },
  "cells": [
    {
      "cell_type": "code",
      "execution_count": 2,
      "metadata": {
        "id": "bclq6TTCLo0P"
      },
      "outputs": [],
      "source": [
        "## Imports\n",
        "\n",
        "# Basics\n",
        "\n",
        "import numpy as np\n",
        "import pandas as pd\n",
        "import matplotlib.pyplot as plt"
      ]
    },
    {
      "cell_type": "code",
      "source": [
        "from google.colab import drive\n",
        "\n",
        "drive.mount('/content/drive')\n",
        "\n",
        "df = pd.read_json('/content/drive/MyDrive/Colab Notebooks/goodreads-comments/data/dataset_goodreads-scraper.json')"
      ],
      "metadata": {
        "colab": {
          "base_uri": "https://localhost:8080/"
        },
        "id": "ZUSIU61wLz5Z",
        "outputId": "ee080a80-f631-4322-fa35-f949d5cbb404"
      },
      "execution_count": 3,
      "outputs": [
        {
          "output_type": "stream",
          "name": "stdout",
          "text": [
            "Mounted at /content/drive\n"
          ]
        }
      ]
    },
    {
      "cell_type": "code",
      "source": [
        "df.reviews[0][0]['text']"
      ],
      "metadata": {
        "colab": {
          "base_uri": "https://localhost:8080/",
          "height": 839
        },
        "id": "td4ixhdSMHrv",
        "outputId": "d0508882-0242-43c8-b0a0-9e47bce66078"
      },
      "execution_count": 4,
      "outputs": [
        {
          "output_type": "execute_result",
          "data": {
            "text/plain": [
              "'                          Les MisÃ©rables can be translated from the French into \"The Miserable Ones\", \"The Wretched\", \"The Poor Ones\", \"The Wretched Poor\" or \"The Victims\". So, as you will have concluded, this is not a happy book.In fact, it is the very opposite of fluffy happiness. It is a story about the lowest and darkest parts of French society in the first half of the nineteenth century. Hugo takes the reader on a 1200+ page journey around France and into the lives of criminals, prostitutes, those wasting away under  Les MisÃ©rables can be translated from the French into \"The Miserable Ones\", \"The Wretched\", \"The Poor Ones\", \"The Wretched Poor\" or \"The Victims\". So, as you will have concluded, this is not a happy book.In fact, it is the very opposite of fluffy happiness. It is a story about the lowest and darkest parts of French society in the first half of the nineteenth century. Hugo takes the reader on a 1200+ page journey around France and into the lives of criminals, prostitutes, those wasting away under the strain of poverty... and he provides food for thought on commonly-held ideas about the nature of law, justice, love, religion and politics. Not only this, but I can say that not one page of this giant bored me.  At the end of the day you\\'re another day older And that\\'s all you can say for the life of the poorI feel the need to mention the musical of Les MisÃ©rables (and I\\'m going to incorporate some lyrics into this review because why not?). It\\'s one of my favourite musicals. The book is, as is often the case, a much deeper and well-developed version of the same story, but I still recognised many of my favourite scenes from the stage production. I had actually expected the book to be more gentle and subdued than the musical because of the time it was written and to avoid controversy - especially as Hugo\\'s opinion of the French judicial system during this time was made very clear - but this was not the case. Les MisÃ©rables is a nasty, gritty, haunting novel that doesn\\'t fail to stay with you for a long time after putting it down.  I had a dream my life would be So different from this hell I\\'m living So different now from what it seemed Now life has killed the dream I dreamed.It seems wrong to try and simplify the amazing plot of Les Miserables but I have to somehow fit all that greatness into this little review space. So, the main plot line of this story is about the ex-convict, Jean Valjean, who has been released from prison after serving nineteen years for stealing a loaf of bread and then trying to escape. He comes away from all those years doing hard labour with anger running in his veins-- what kind of society sends a man to that disgusting fate for trying to quell his hunger? His thoughts turn to revenge and rebellion; he no longer even wants to try playing by the rules of a country which has done this to him. Until he is shown an act of kindness beyond his imagination by someone who breaks the cycle of anger and vengeance.  Lovely ladies ready for the call Standing up or lying down or any way at all Bargain prices up against the wallTaking the little money and the vast amount of kindness he has been given, Jean Valjean slowly becomes an honest (and wealthy) man who helps those in need. But his new found way of life and the respect he has earned becomes threatened one day when the police officer, Javert, starts to recognise him. But that is just one story being told here. Several stories run parallel to one another throughout this book and thye begin to entwine more and more as the novel progresses. Another is the story of Fantine and her illegitimate daughter - Cosette. Forced into prostitution in order to feed her child, Fantine is a woman who looks old for her age and no longer has the sparkle of joy in her eye that she enjoyed back when she was allowed to be naive. Cosette, meanwhile, is mistreated by the foster family who agree to take care of her while Fantine \"works\" in the nearby town. Other stories include that of Marius and Eponine, but there are many more.  The city goes to bed And I can live inside my headThe above lyrics are from one of the musical\\'s best known songs - On My Own - and are sung by one of the most fascinating characters of the novel, Eponine. Eponine\\'s tale is an old one, one of unrequited love but it is far from cheesy. Marius describes her as an \"unhappy soul\" and nothing can be much more accurate. She is a sad, complex, and unfortunate character, which I suppose they all are in Les MisÃ©rables, but Eponine has a special place in my heart. But she is also far from weak. She has been toughened by life, made ugly by poverty, and she is ferociously independent. Yeah, I like her.  Here they talked of revolution Here it was they lit the flame Here they sang about tomorrow And tomorrow never came.This book also chronicles the events leading up to and including the Paris uprising of 1832 and the novel includes themes of revolution. It is a deeply thoughtful story that challenged attitudes held at the time in many ways. To use one example: a court of law was ready to sentence an innocent man to life imprisonment because he was slow and uneducated and therefore couldn\\'t speak eloquently in his defence. Perhaps this book is nothing more than an entertaining but dark story that Hugo wrote to grip and shock people, but to me this is a highly political novel that makes many statements about law and justice in France during the time period. I find it hard to dismiss Hugo\\'s observations of the treatment of those who are poor and unintelligent as anything other than criticisms of society. But that is just me. I think I can say that you will be affected by this. Whether you will thank me for it or not, well, that depends on how easily you tolerate a depressing read. But I\\'ve saved my favourite and the most uplifting song for last:  Do you hear the people sing? Singing a song of angry men? It is the music of a people who will not be slaves again! When the beating of your heart Echoes the beating of the drums There is a life about to start when tomorrow comes![youtube link]Blog | Facebook | Twitter | Instagram | Youtube  ...more                  '"
            ],
            "application/vnd.google.colaboratory.intrinsic+json": {
              "type": "string"
            }
          },
          "metadata": {},
          "execution_count": 4
        }
      ]
    },
    {
      "cell_type": "code",
      "source": [
        "len(df['reviews'][0])"
      ],
      "metadata": {
        "id": "-wwN5EG_MOKH",
        "colab": {
          "base_uri": "https://localhost:8080/"
        },
        "outputId": "1d0ce422-ef27-4083-fc17-b02fc46f746f"
      },
      "execution_count": 13,
      "outputs": [
        {
          "output_type": "execute_result",
          "data": {
            "text/plain": [
              "300"
            ]
          },
          "metadata": {},
          "execution_count": 13
        }
      ]
    },
    {
      "cell_type": "code",
      "source": [
        "pd.DataFrame(df['reviews'])"
      ],
      "metadata": {
        "colab": {
          "base_uri": "https://localhost:8080/",
          "height": 959
        },
        "id": "1gZvA69R3Eiu",
        "outputId": "8a284d50-27c5-486b-e13f-193b3ebb119c"
      },
      "execution_count": 18,
      "outputs": [
        {
          "output_type": "execute_result",
          "data": {
            "text/plain": [
              "                                              reviews\n",
              "0   [{'author': 'Emily May', 'userUrl': 'https://w...\n",
              "1   [{'author': 'Kat (Lost in Neverland)', 'userUr...\n",
              "2   [{'author': 'Ebookwormy1', 'userUrl': 'https:/...\n",
              "3   [{'author': 'Arthur Graham', 'userUrl': 'https...\n",
              "4   [{'author': 'Mont'ster', 'userUrl': 'https://w...\n",
              "5   [{'author': 'Jeffrey Keeten', 'userUrl': 'http...\n",
              "6   [{'author': 'Jason', 'userUrl': 'https://www.g...\n",
              "7   [{'author': 'Martine', 'userUrl': 'https://www...\n",
              "8   [{'author': 'Maureen ( NOT RECEIVING NOTIFICAT...\n",
              "9   [{'author': 'Lisa', 'userUrl': 'https://www.go...\n",
              "10  [{'author': 'Justin Tate', 'userUrl': 'https:/...\n",
              "11  [{'author': 'Manny', 'userUrl': 'https://www.g...\n",
              "12  [{'author': 'Vanessa', 'userUrl': 'https://www...\n",
              "13  [{'author': 'Stephen', 'userUrl': 'https://www...\n",
              "14  [{'author': 'Khanh, first of her name, mother ...\n",
              "15  [{'author': 'Lisa of Troy', 'userUrl': 'https:...\n",
              "16  [{'author': 'ZoÃ«', 'userUrl': 'https://www.go...\n",
              "17  [{'author': 'Trevor', 'userUrl': 'https://www....\n",
              "18  [{'author': 'Stephen', 'userUrl': 'https://www...\n",
              "19  [{'author': 'Jessica', 'userUrl': 'https://www...\n",
              "20  [{'author': 'Andrea', 'userUrl': 'https://www....\n",
              "21  [{'author': 'Miranda Reads', 'userUrl': 'https...\n",
              "22  [{'author': 'Ian \"Marvin\" Graye', 'userUrl': '...\n",
              "23  [{'author': 'Steph Sinclair', 'userUrl': 'http...\n",
              "24  [{'author': 'Annie', 'userUrl': 'https://www.g...\n",
              "25  [{'author': 'Sarah', 'userUrl': 'https://www.g...\n",
              "26  [{'author': 'Simeon', 'userUrl': 'https://www....\n",
              "27  [{'author': 'Matt', 'userUrl': 'https://www.go...\n",
              "28  [{'author': 'Jeffrey Keeten', 'userUrl': 'http..."
            ],
            "text/html": [
              "\n",
              "  <div id=\"df-f8fade99-0b5e-493e-a985-dab3500d6b6a\">\n",
              "    <div class=\"colab-df-container\">\n",
              "      <div>\n",
              "<style scoped>\n",
              "    .dataframe tbody tr th:only-of-type {\n",
              "        vertical-align: middle;\n",
              "    }\n",
              "\n",
              "    .dataframe tbody tr th {\n",
              "        vertical-align: top;\n",
              "    }\n",
              "\n",
              "    .dataframe thead th {\n",
              "        text-align: right;\n",
              "    }\n",
              "</style>\n",
              "<table border=\"1\" class=\"dataframe\">\n",
              "  <thead>\n",
              "    <tr style=\"text-align: right;\">\n",
              "      <th></th>\n",
              "      <th>reviews</th>\n",
              "    </tr>\n",
              "  </thead>\n",
              "  <tbody>\n",
              "    <tr>\n",
              "      <th>0</th>\n",
              "      <td>[{'author': 'Emily May', 'userUrl': 'https://w...</td>\n",
              "    </tr>\n",
              "    <tr>\n",
              "      <th>1</th>\n",
              "      <td>[{'author': 'Kat (Lost in Neverland)', 'userUr...</td>\n",
              "    </tr>\n",
              "    <tr>\n",
              "      <th>2</th>\n",
              "      <td>[{'author': 'Ebookwormy1', 'userUrl': 'https:/...</td>\n",
              "    </tr>\n",
              "    <tr>\n",
              "      <th>3</th>\n",
              "      <td>[{'author': 'Arthur Graham', 'userUrl': 'https...</td>\n",
              "    </tr>\n",
              "    <tr>\n",
              "      <th>4</th>\n",
              "      <td>[{'author': 'Mont'ster', 'userUrl': 'https://w...</td>\n",
              "    </tr>\n",
              "    <tr>\n",
              "      <th>5</th>\n",
              "      <td>[{'author': 'Jeffrey Keeten', 'userUrl': 'http...</td>\n",
              "    </tr>\n",
              "    <tr>\n",
              "      <th>6</th>\n",
              "      <td>[{'author': 'Jason', 'userUrl': 'https://www.g...</td>\n",
              "    </tr>\n",
              "    <tr>\n",
              "      <th>7</th>\n",
              "      <td>[{'author': 'Martine', 'userUrl': 'https://www...</td>\n",
              "    </tr>\n",
              "    <tr>\n",
              "      <th>8</th>\n",
              "      <td>[{'author': 'Maureen ( NOT RECEIVING NOTIFICAT...</td>\n",
              "    </tr>\n",
              "    <tr>\n",
              "      <th>9</th>\n",
              "      <td>[{'author': 'Lisa', 'userUrl': 'https://www.go...</td>\n",
              "    </tr>\n",
              "    <tr>\n",
              "      <th>10</th>\n",
              "      <td>[{'author': 'Justin Tate', 'userUrl': 'https:/...</td>\n",
              "    </tr>\n",
              "    <tr>\n",
              "      <th>11</th>\n",
              "      <td>[{'author': 'Manny', 'userUrl': 'https://www.g...</td>\n",
              "    </tr>\n",
              "    <tr>\n",
              "      <th>12</th>\n",
              "      <td>[{'author': 'Vanessa', 'userUrl': 'https://www...</td>\n",
              "    </tr>\n",
              "    <tr>\n",
              "      <th>13</th>\n",
              "      <td>[{'author': 'Stephen', 'userUrl': 'https://www...</td>\n",
              "    </tr>\n",
              "    <tr>\n",
              "      <th>14</th>\n",
              "      <td>[{'author': 'Khanh, first of her name, mother ...</td>\n",
              "    </tr>\n",
              "    <tr>\n",
              "      <th>15</th>\n",
              "      <td>[{'author': 'Lisa of Troy', 'userUrl': 'https:...</td>\n",
              "    </tr>\n",
              "    <tr>\n",
              "      <th>16</th>\n",
              "      <td>[{'author': 'ZoÃ«', 'userUrl': 'https://www.go...</td>\n",
              "    </tr>\n",
              "    <tr>\n",
              "      <th>17</th>\n",
              "      <td>[{'author': 'Trevor', 'userUrl': 'https://www....</td>\n",
              "    </tr>\n",
              "    <tr>\n",
              "      <th>18</th>\n",
              "      <td>[{'author': 'Stephen', 'userUrl': 'https://www...</td>\n",
              "    </tr>\n",
              "    <tr>\n",
              "      <th>19</th>\n",
              "      <td>[{'author': 'Jessica', 'userUrl': 'https://www...</td>\n",
              "    </tr>\n",
              "    <tr>\n",
              "      <th>20</th>\n",
              "      <td>[{'author': 'Andrea', 'userUrl': 'https://www....</td>\n",
              "    </tr>\n",
              "    <tr>\n",
              "      <th>21</th>\n",
              "      <td>[{'author': 'Miranda Reads', 'userUrl': 'https...</td>\n",
              "    </tr>\n",
              "    <tr>\n",
              "      <th>22</th>\n",
              "      <td>[{'author': 'Ian \"Marvin\" Graye', 'userUrl': '...</td>\n",
              "    </tr>\n",
              "    <tr>\n",
              "      <th>23</th>\n",
              "      <td>[{'author': 'Steph Sinclair', 'userUrl': 'http...</td>\n",
              "    </tr>\n",
              "    <tr>\n",
              "      <th>24</th>\n",
              "      <td>[{'author': 'Annie', 'userUrl': 'https://www.g...</td>\n",
              "    </tr>\n",
              "    <tr>\n",
              "      <th>25</th>\n",
              "      <td>[{'author': 'Sarah', 'userUrl': 'https://www.g...</td>\n",
              "    </tr>\n",
              "    <tr>\n",
              "      <th>26</th>\n",
              "      <td>[{'author': 'Simeon', 'userUrl': 'https://www....</td>\n",
              "    </tr>\n",
              "    <tr>\n",
              "      <th>27</th>\n",
              "      <td>[{'author': 'Matt', 'userUrl': 'https://www.go...</td>\n",
              "    </tr>\n",
              "    <tr>\n",
              "      <th>28</th>\n",
              "      <td>[{'author': 'Jeffrey Keeten', 'userUrl': 'http...</td>\n",
              "    </tr>\n",
              "  </tbody>\n",
              "</table>\n",
              "</div>\n",
              "      <button class=\"colab-df-convert\" onclick=\"convertToInteractive('df-f8fade99-0b5e-493e-a985-dab3500d6b6a')\"\n",
              "              title=\"Convert this dataframe to an interactive table.\"\n",
              "              style=\"display:none;\">\n",
              "        \n",
              "  <svg xmlns=\"http://www.w3.org/2000/svg\" height=\"24px\"viewBox=\"0 0 24 24\"\n",
              "       width=\"24px\">\n",
              "    <path d=\"M0 0h24v24H0V0z\" fill=\"none\"/>\n",
              "    <path d=\"M18.56 5.44l.94 2.06.94-2.06 2.06-.94-2.06-.94-.94-2.06-.94 2.06-2.06.94zm-11 1L8.5 8.5l.94-2.06 2.06-.94-2.06-.94L8.5 2.5l-.94 2.06-2.06.94zm10 10l.94 2.06.94-2.06 2.06-.94-2.06-.94-.94-2.06-.94 2.06-2.06.94z\"/><path d=\"M17.41 7.96l-1.37-1.37c-.4-.4-.92-.59-1.43-.59-.52 0-1.04.2-1.43.59L10.3 9.45l-7.72 7.72c-.78.78-.78 2.05 0 2.83L4 21.41c.39.39.9.59 1.41.59.51 0 1.02-.2 1.41-.59l7.78-7.78 2.81-2.81c.8-.78.8-2.07 0-2.86zM5.41 20L4 18.59l7.72-7.72 1.47 1.35L5.41 20z\"/>\n",
              "  </svg>\n",
              "      </button>\n",
              "      \n",
              "  <style>\n",
              "    .colab-df-container {\n",
              "      display:flex;\n",
              "      flex-wrap:wrap;\n",
              "      gap: 12px;\n",
              "    }\n",
              "\n",
              "    .colab-df-convert {\n",
              "      background-color: #E8F0FE;\n",
              "      border: none;\n",
              "      border-radius: 50%;\n",
              "      cursor: pointer;\n",
              "      display: none;\n",
              "      fill: #1967D2;\n",
              "      height: 32px;\n",
              "      padding: 0 0 0 0;\n",
              "      width: 32px;\n",
              "    }\n",
              "\n",
              "    .colab-df-convert:hover {\n",
              "      background-color: #E2EBFA;\n",
              "      box-shadow: 0px 1px 2px rgba(60, 64, 67, 0.3), 0px 1px 3px 1px rgba(60, 64, 67, 0.15);\n",
              "      fill: #174EA6;\n",
              "    }\n",
              "\n",
              "    [theme=dark] .colab-df-convert {\n",
              "      background-color: #3B4455;\n",
              "      fill: #D2E3FC;\n",
              "    }\n",
              "\n",
              "    [theme=dark] .colab-df-convert:hover {\n",
              "      background-color: #434B5C;\n",
              "      box-shadow: 0px 1px 3px 1px rgba(0, 0, 0, 0.15);\n",
              "      filter: drop-shadow(0px 1px 2px rgba(0, 0, 0, 0.3));\n",
              "      fill: #FFFFFF;\n",
              "    }\n",
              "  </style>\n",
              "\n",
              "      <script>\n",
              "        const buttonEl =\n",
              "          document.querySelector('#df-f8fade99-0b5e-493e-a985-dab3500d6b6a button.colab-df-convert');\n",
              "        buttonEl.style.display =\n",
              "          google.colab.kernel.accessAllowed ? 'block' : 'none';\n",
              "\n",
              "        async function convertToInteractive(key) {\n",
              "          const element = document.querySelector('#df-f8fade99-0b5e-493e-a985-dab3500d6b6a');\n",
              "          const dataTable =\n",
              "            await google.colab.kernel.invokeFunction('convertToInteractive',\n",
              "                                                     [key], {});\n",
              "          if (!dataTable) return;\n",
              "\n",
              "          const docLinkHtml = 'Like what you see? Visit the ' +\n",
              "            '<a target=\"_blank\" href=https://colab.research.google.com/notebooks/data_table.ipynb>data table notebook</a>'\n",
              "            + ' to learn more about interactive tables.';\n",
              "          element.innerHTML = '';\n",
              "          dataTable['output_type'] = 'display_data';\n",
              "          await google.colab.output.renderOutput(dataTable, element);\n",
              "          const docLink = document.createElement('div');\n",
              "          docLink.innerHTML = docLinkHtml;\n",
              "          element.appendChild(docLink);\n",
              "        }\n",
              "      </script>\n",
              "    </div>\n",
              "  </div>\n",
              "  "
            ]
          },
          "metadata": {},
          "execution_count": 18
        }
      ]
    },
    {
      "cell_type": "code",
      "source": [
        "for index, review in enumerate(df['reviews']):\n",
        "\n",
        "\n",
        "df['reviews']['text']"
      ],
      "metadata": {
        "colab": {
          "base_uri": "https://localhost:8080/",
          "height": 318
        },
        "id": "4w24KvL2yRC0",
        "outputId": "928d9e5b-b44d-44e5-bd09-b01a1ec6de82"
      },
      "execution_count": 16,
      "outputs": [
        {
          "output_type": "error",
          "ename": "KeyError",
          "evalue": "ignored",
          "traceback": [
            "\u001b[0;31m---------------------------------------------------------------------------\u001b[0m",
            "\u001b[0;31mKeyError\u001b[0m                                  Traceback (most recent call last)",
            "\u001b[0;32m<ipython-input-16-61bfb07271e8>\u001b[0m in \u001b[0;36m<module>\u001b[0;34m\u001b[0m\n\u001b[0;32m----> 1\u001b[0;31m \u001b[0mdf\u001b[0m\u001b[0;34m[\u001b[0m\u001b[0;34m'reviews'\u001b[0m\u001b[0;34m]\u001b[0m\u001b[0;34m[\u001b[0m\u001b[0;34m:\u001b[0m\u001b[0;34m,\u001b[0m \u001b[0;34m:\u001b[0m\u001b[0;34m]\u001b[0m\u001b[0;34m[\u001b[0m\u001b[0;34m'text'\u001b[0m\u001b[0;34m]\u001b[0m\u001b[0;34m\u001b[0m\u001b[0;34m\u001b[0m\u001b[0m\n\u001b[0m",
            "\u001b[0;32m/usr/local/lib/python3.7/dist-packages/pandas/core/series.py\u001b[0m in \u001b[0;36m__getitem__\u001b[0;34m(self, key)\u001b[0m\n\u001b[1;32m    964\u001b[0m             \u001b[0;32mreturn\u001b[0m \u001b[0mself\u001b[0m\u001b[0;34m.\u001b[0m\u001b[0m_get_values\u001b[0m\u001b[0;34m(\u001b[0m\u001b[0mkey\u001b[0m\u001b[0;34m)\u001b[0m\u001b[0;34m\u001b[0m\u001b[0;34m\u001b[0m\u001b[0m\n\u001b[1;32m    965\u001b[0m \u001b[0;34m\u001b[0m\u001b[0m\n\u001b[0;32m--> 966\u001b[0;31m         \u001b[0;32mreturn\u001b[0m \u001b[0mself\u001b[0m\u001b[0;34m.\u001b[0m\u001b[0m_get_with\u001b[0m\u001b[0;34m(\u001b[0m\u001b[0mkey\u001b[0m\u001b[0;34m)\u001b[0m\u001b[0;34m\u001b[0m\u001b[0;34m\u001b[0m\u001b[0m\n\u001b[0m\u001b[1;32m    967\u001b[0m \u001b[0;34m\u001b[0m\u001b[0m\n\u001b[1;32m    968\u001b[0m     \u001b[0;32mdef\u001b[0m \u001b[0m_get_with\u001b[0m\u001b[0;34m(\u001b[0m\u001b[0mself\u001b[0m\u001b[0;34m,\u001b[0m \u001b[0mkey\u001b[0m\u001b[0;34m)\u001b[0m\u001b[0;34m:\u001b[0m\u001b[0;34m\u001b[0m\u001b[0;34m\u001b[0m\u001b[0m\n",
            "\u001b[0;32m/usr/local/lib/python3.7/dist-packages/pandas/core/series.py\u001b[0m in \u001b[0;36m_get_with\u001b[0;34m(self, key)\u001b[0m\n\u001b[1;32m    979\u001b[0m             )\n\u001b[1;32m    980\u001b[0m         \u001b[0;32melif\u001b[0m \u001b[0misinstance\u001b[0m\u001b[0;34m(\u001b[0m\u001b[0mkey\u001b[0m\u001b[0;34m,\u001b[0m \u001b[0mtuple\u001b[0m\u001b[0;34m)\u001b[0m\u001b[0;34m:\u001b[0m\u001b[0;34m\u001b[0m\u001b[0;34m\u001b[0m\u001b[0m\n\u001b[0;32m--> 981\u001b[0;31m             \u001b[0;32mreturn\u001b[0m \u001b[0mself\u001b[0m\u001b[0;34m.\u001b[0m\u001b[0m_get_values_tuple\u001b[0m\u001b[0;34m(\u001b[0m\u001b[0mkey\u001b[0m\u001b[0;34m)\u001b[0m\u001b[0;34m\u001b[0m\u001b[0;34m\u001b[0m\u001b[0m\n\u001b[0m\u001b[1;32m    982\u001b[0m \u001b[0;34m\u001b[0m\u001b[0m\n\u001b[1;32m    983\u001b[0m         \u001b[0;32melif\u001b[0m \u001b[0;32mnot\u001b[0m \u001b[0mis_list_like\u001b[0m\u001b[0;34m(\u001b[0m\u001b[0mkey\u001b[0m\u001b[0;34m)\u001b[0m\u001b[0;34m:\u001b[0m\u001b[0;34m\u001b[0m\u001b[0;34m\u001b[0m\u001b[0m\n",
            "\u001b[0;32m/usr/local/lib/python3.7/dist-packages/pandas/core/series.py\u001b[0m in \u001b[0;36m_get_values_tuple\u001b[0;34m(self, key)\u001b[0m\n\u001b[1;32m   1014\u001b[0m \u001b[0;34m\u001b[0m\u001b[0m\n\u001b[1;32m   1015\u001b[0m         \u001b[0;32mif\u001b[0m \u001b[0;32mnot\u001b[0m \u001b[0misinstance\u001b[0m\u001b[0;34m(\u001b[0m\u001b[0mself\u001b[0m\u001b[0;34m.\u001b[0m\u001b[0mindex\u001b[0m\u001b[0;34m,\u001b[0m \u001b[0mMultiIndex\u001b[0m\u001b[0;34m)\u001b[0m\u001b[0;34m:\u001b[0m\u001b[0;34m\u001b[0m\u001b[0;34m\u001b[0m\u001b[0m\n\u001b[0;32m-> 1016\u001b[0;31m             \u001b[0;32mraise\u001b[0m \u001b[0mKeyError\u001b[0m\u001b[0;34m(\u001b[0m\u001b[0;34m\"key of type tuple not found and not a MultiIndex\"\u001b[0m\u001b[0;34m)\u001b[0m\u001b[0;34m\u001b[0m\u001b[0;34m\u001b[0m\u001b[0m\n\u001b[0m\u001b[1;32m   1017\u001b[0m \u001b[0;34m\u001b[0m\u001b[0m\n\u001b[1;32m   1018\u001b[0m         \u001b[0;31m# If key is contained, would have returned by now\u001b[0m\u001b[0;34m\u001b[0m\u001b[0;34m\u001b[0m\u001b[0;34m\u001b[0m\u001b[0m\n",
            "\u001b[0;31mKeyError\u001b[0m: 'key of type tuple not found and not a MultiIndex'"
          ]
        }
      ]
    }
  ]
}
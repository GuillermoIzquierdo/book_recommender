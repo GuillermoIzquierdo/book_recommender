{
 "cells": [
  {
   "cell_type": "code",
   "execution_count": 1,
   "id": "86579696",
   "metadata": {},
   "outputs": [],
   "source": [
    "import pandas as pd"
   ]
  },
  {
   "cell_type": "code",
   "execution_count": 7,
   "id": "ed3660a4",
   "metadata": {},
   "outputs": [
    {
     "name": "stdout",
     "output_type": "stream",
     "text": [
      "CPU times: user 233 ms, sys: 30.5 ms, total: 263 ms\n",
      "Wall time: 265 ms\n"
     ]
    }
   ],
   "source": [
    "%%time\n",
    "book_id_frame=pd.read_csv(\"../book_recommender/data/book_id_map.csv\")"
   ]
  },
  {
   "cell_type": "code",
   "execution_count": 3,
   "id": "8ce24faa",
   "metadata": {},
   "outputs": [
    {
     "data": {
      "text/html": [
       "<div>\n",
       "<style scoped>\n",
       "    .dataframe tbody tr th:only-of-type {\n",
       "        vertical-align: middle;\n",
       "    }\n",
       "\n",
       "    .dataframe tbody tr th {\n",
       "        vertical-align: top;\n",
       "    }\n",
       "\n",
       "    .dataframe thead th {\n",
       "        text-align: right;\n",
       "    }\n",
       "</style>\n",
       "<table border=\"1\" class=\"dataframe\">\n",
       "  <thead>\n",
       "    <tr style=\"text-align: right;\">\n",
       "      <th></th>\n",
       "      <th>book_id_csv</th>\n",
       "      <th>book_id</th>\n",
       "    </tr>\n",
       "  </thead>\n",
       "  <tbody>\n",
       "    <tr>\n",
       "      <th>0</th>\n",
       "      <td>0</td>\n",
       "      <td>34684622</td>\n",
       "    </tr>\n",
       "    <tr>\n",
       "      <th>1</th>\n",
       "      <td>1</td>\n",
       "      <td>34536488</td>\n",
       "    </tr>\n",
       "    <tr>\n",
       "      <th>2</th>\n",
       "      <td>2</td>\n",
       "      <td>34017076</td>\n",
       "    </tr>\n",
       "    <tr>\n",
       "      <th>3</th>\n",
       "      <td>3</td>\n",
       "      <td>71730</td>\n",
       "    </tr>\n",
       "    <tr>\n",
       "      <th>4</th>\n",
       "      <td>4</td>\n",
       "      <td>30422361</td>\n",
       "    </tr>\n",
       "    <tr>\n",
       "      <th>...</th>\n",
       "      <td>...</td>\n",
       "      <td>...</td>\n",
       "    </tr>\n",
       "    <tr>\n",
       "      <th>2360645</th>\n",
       "      <td>2360645</td>\n",
       "      <td>19517100</td>\n",
       "    </tr>\n",
       "    <tr>\n",
       "      <th>2360646</th>\n",
       "      <td>2360646</td>\n",
       "      <td>18597299</td>\n",
       "    </tr>\n",
       "    <tr>\n",
       "      <th>2360647</th>\n",
       "      <td>2360647</td>\n",
       "      <td>18584882</td>\n",
       "    </tr>\n",
       "    <tr>\n",
       "      <th>2360648</th>\n",
       "      <td>2360648</td>\n",
       "      <td>18518801</td>\n",
       "    </tr>\n",
       "    <tr>\n",
       "      <th>2360649</th>\n",
       "      <td>2360649</td>\n",
       "      <td>18518607</td>\n",
       "    </tr>\n",
       "  </tbody>\n",
       "</table>\n",
       "<p>2360650 rows × 2 columns</p>\n",
       "</div>"
      ],
      "text/plain": [
       "         book_id_csv   book_id\n",
       "0                  0  34684622\n",
       "1                  1  34536488\n",
       "2                  2  34017076\n",
       "3                  3     71730\n",
       "4                  4  30422361\n",
       "...              ...       ...\n",
       "2360645      2360645  19517100\n",
       "2360646      2360646  18597299\n",
       "2360647      2360647  18584882\n",
       "2360648      2360648  18518801\n",
       "2360649      2360649  18518607\n",
       "\n",
       "[2360650 rows x 2 columns]"
      ]
     },
     "execution_count": 3,
     "metadata": {},
     "output_type": "execute_result"
    }
   ],
   "source": [
    "book_id_frame"
   ]
  },
  {
   "cell_type": "code",
   "execution_count": 4,
   "id": "c06c145d",
   "metadata": {},
   "outputs": [
    {
     "name": "stdout",
     "output_type": "stream",
     "text": [
      "CPU times: user 32.6 s, sys: 9.52 s, total: 42.1 s\n",
      "Wall time: 48.3 s\n"
     ]
    }
   ],
   "source": [
    "%%time\n",
    "book_interactions_frame=pd.read_csv(\"../book_recommender/data/goodreads_interactions.csv\")"
   ]
  },
  {
   "cell_type": "code",
   "execution_count": 12,
   "id": "efa0c17e",
   "metadata": {},
   "outputs": [
    {
     "data": {
      "text/plain": [
       "(876145,)"
      ]
     },
     "execution_count": 12,
     "metadata": {},
     "output_type": "execute_result"
    }
   ],
   "source": [
    "book_interactions_frame[\"user_id\"].unique().shape"
   ]
  },
  {
   "cell_type": "code",
   "execution_count": null,
   "id": "022995b5",
   "metadata": {},
   "outputs": [],
   "source": [
    "while True:\n",
    "        line = f.readline()\n",
    "        if not line:\n",
    "            break\n",
    "        user_id, csv_id, _, rating, _ = line.split(\",\")\n",
    "        \n",
    "        if user_id in overlap_users:\n",
    "            continue\n",
    "\n",
    "        try:\n",
    "            rating = int(rating)\n",
    "        except ValueError:\n",
    "            continue\n",
    "        \n",
    "        book_id = csv_book_mapping[csv_id]\n",
    "        \n",
    "        if book_id in liked_books and rating >= 4:\n",
    "                overlap_users.add(user_id)"
   ]
  },
  {
   "cell_type": "code",
   "execution_count": null,
   "id": "e46ef5e5",
   "metadata": {},
   "outputs": [],
   "source": []
  },
  {
   "cell_type": "code",
   "execution_count": null,
   "id": "387646e6",
   "metadata": {},
   "outputs": [],
   "source": [
    "if user_id in overlap_users:\n",
    "            continue\n",
    "\n",
    "        try:\n",
    "            rating = int(rating)\n",
    "        except ValueError:\n",
    "            continue\n",
    "        \n",
    "        book_id = csv_book_mapping[csv_id]\n",
    "        \n",
    "        if book_id in liked_books and rating >= 4:\n",
    "                overlap_users.add(user_id)"
   ]
  },
  {
   "cell_type": "code",
   "execution_count": null,
   "id": "0d750cca",
   "metadata": {},
   "outputs": [],
   "source": []
  },
  {
   "cell_type": "code",
   "execution_count": null,
   "id": "829b6304",
   "metadata": {},
   "outputs": [],
   "source": []
  },
  {
   "cell_type": "code",
   "execution_count": null,
   "id": "55e73fbf",
   "metadata": {},
   "outputs": [],
   "source": []
  },
  {
   "cell_type": "code",
   "execution_count": 6,
   "id": "08de5f14",
   "metadata": {},
   "outputs": [
    {
     "name": "stdout",
     "output_type": "stream",
     "text": [
      "CPU times: user 3.11 s, sys: 829 ms, total: 3.94 s\n",
      "Wall time: 4.2 s\n"
     ]
    }
   ],
   "source": [
    "%%time\n",
    "book_titles_frame=pd.read_json(\"../book_recommender/data/books_titles.json\")"
   ]
  },
  {
   "cell_type": "code",
   "execution_count": null,
   "id": "961a68d0",
   "metadata": {},
   "outputs": [],
   "source": [
    "recommendations_lines=[]\n",
    "with open(\"../book_recommender/data/goodreads_interactions.csv\", 'r') as f:\n",
    "    while True:\n",
    "        line = f.readline()\n",
    "        if not line:\n",
    "            break\n",
    "        user_id, csv_id, _, rating, _ = line.split(\",\")\n",
    "        \n",
    "        if user_id in overlap_users:\n",
    "            book_id = csv_book_mapping[csv_id]\n",
    "            recommendations_lines.append([user_id, book_id, rating])\n"
   ]
  },
  {
   "cell_type": "code",
   "execution_count": null,
   "id": "08b8e38b",
   "metadata": {},
   "outputs": [],
   "source": [
    "recommendations_lines=[]\n",
    "\n"
   ]
  },
  {
   "cell_type": "code",
   "execution_count": 17,
   "id": "12434435",
   "metadata": {},
   "outputs": [],
   "source": [
    "overlap_users=set()"
   ]
  },
  {
   "cell_type": "code",
   "execution_count": 18,
   "id": "be4700aa",
   "metadata": {},
   "outputs": [
    {
     "ename": "NameError",
     "evalue": "name 'df_book_map' is not defined",
     "output_type": "error",
     "traceback": [
      "\u001b[0;31m---------------------------------------------------------------------------\u001b[0m",
      "\u001b[0;31mNameError\u001b[0m                                 Traceback (most recent call last)",
      "Input \u001b[0;32mIn [18]\u001b[0m, in \u001b[0;36m<cell line: 1>\u001b[0;34m()\u001b[0m\n\u001b[1;32m      6\u001b[0m \u001b[38;5;28;01mexcept\u001b[39;00m \u001b[38;5;167;01mValueError\u001b[39;00m:\n\u001b[1;32m      7\u001b[0m     \u001b[38;5;28;01mcontinue\u001b[39;00m\n\u001b[0;32m----> 8\u001b[0m book_id \u001b[38;5;241m=\u001b[39m \u001b[43mdf_book_map\u001b[49m[\u001b[38;5;124m\"\u001b[39m\u001b[38;5;124mbook_id\u001b[39m\u001b[38;5;124m\"\u001b[39m]\n\u001b[1;32m      9\u001b[0m \u001b[38;5;28mprint\u001b[39m(book_id)\n\u001b[1;32m     10\u001b[0m \u001b[38;5;28;01mif\u001b[39;00m (book_id \u001b[38;5;129;01min\u001b[39;00m liked_books) \u001b[38;5;129;01mand\u001b[39;00m (row[\u001b[38;5;124m\"\u001b[39m\u001b[38;5;124mrating\u001b[39m\u001b[38;5;124m\"\u001b[39m] \u001b[38;5;241m>\u001b[39m\u001b[38;5;241m=\u001b[39m \u001b[38;5;241m4\u001b[39m):\n",
      "\u001b[0;31mNameError\u001b[0m: name 'df_book_map' is not defined"
     ]
    }
   ],
   "source": [
    "for index, row in book_interactions_frame.iterrows():\n",
    "    if row[\"user_id\"] in overlap_users:\n",
    "        continue\n",
    "    try:\n",
    "        row[\"rating\"] = int(row[\"rating\"])\n",
    "    except ValueError:\n",
    "        continue\n",
    "    book_id = df_book_map[\"book_id\"]\n",
    "    print(book_id)\n",
    "    if (book_id in liked_books) and (row[\"rating\"] >= 4):\n",
    "        overlap_users.add(row[\"user_id\"])"
   ]
  }
 ],
 "metadata": {
  "kernelspec": {
   "display_name": "Python 3 (ipykernel)",
   "language": "python",
   "name": "python3"
  },
  "language_info": {
   "codemirror_mode": {
    "name": "ipython",
    "version": 3
   },
   "file_extension": ".py",
   "mimetype": "text/x-python",
   "name": "python",
   "nbconvert_exporter": "python",
   "pygments_lexer": "ipython3",
   "version": "3.8.12"
  },
  "toc": {
   "base_numbering": 1,
   "nav_menu": {},
   "number_sections": true,
   "sideBar": true,
   "skip_h1_title": false,
   "title_cell": "Table of Contents",
   "title_sidebar": "Contents",
   "toc_cell": false,
   "toc_position": {},
   "toc_section_display": true,
   "toc_window_display": false
  }
 },
 "nbformat": 4,
 "nbformat_minor": 5
}
